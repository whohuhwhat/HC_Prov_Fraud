{
 "cells": [
  {
   "cell_type": "code",
   "execution_count": 1,
   "metadata": {},
   "outputs": [],
   "source": [
    "import pandas as pd\n",
    "import seaborn as sns\n",
    "import matplotlib.pyplot as plt\n",
    "import datetime\n",
    "import numpy as np"
   ]
  },
  {
   "cell_type": "markdown",
   "metadata": {},
   "source": [
    "## Inpatient"
   ]
  },
  {
   "cell_type": "code",
   "execution_count": 2,
   "metadata": {},
   "outputs": [
    {
     "name": "stdout",
     "output_type": "stream",
     "text": [
      "(40474, 30)\n"
     ]
    },
    {
     "data": {
      "text/html": [
       "<div>\n",
       "<style scoped>\n",
       "    .dataframe tbody tr th:only-of-type {\n",
       "        vertical-align: middle;\n",
       "    }\n",
       "\n",
       "    .dataframe tbody tr th {\n",
       "        vertical-align: top;\n",
       "    }\n",
       "\n",
       "    .dataframe thead th {\n",
       "        text-align: right;\n",
       "    }\n",
       "</style>\n",
       "<table border=\"1\" class=\"dataframe\">\n",
       "  <thead>\n",
       "    <tr style=\"text-align: right;\">\n",
       "      <th></th>\n",
       "      <th>BeneID</th>\n",
       "      <th>ClaimID</th>\n",
       "      <th>ClaimStartDt</th>\n",
       "      <th>ClaimEndDt</th>\n",
       "      <th>Provider</th>\n",
       "      <th>InscClaimAmtReimbursed</th>\n",
       "      <th>AttendingPhysician</th>\n",
       "      <th>OperatingPhysician</th>\n",
       "      <th>OtherPhysician</th>\n",
       "      <th>AdmissionDt</th>\n",
       "      <th>...</th>\n",
       "      <th>ClmDiagnosisCode_7</th>\n",
       "      <th>ClmDiagnosisCode_8</th>\n",
       "      <th>ClmDiagnosisCode_9</th>\n",
       "      <th>ClmDiagnosisCode_10</th>\n",
       "      <th>ClmProcedureCode_1</th>\n",
       "      <th>ClmProcedureCode_2</th>\n",
       "      <th>ClmProcedureCode_3</th>\n",
       "      <th>ClmProcedureCode_4</th>\n",
       "      <th>ClmProcedureCode_5</th>\n",
       "      <th>ClmProcedureCode_6</th>\n",
       "    </tr>\n",
       "  </thead>\n",
       "  <tbody>\n",
       "    <tr>\n",
       "      <th>0</th>\n",
       "      <td>BENE11001</td>\n",
       "      <td>CLM46614</td>\n",
       "      <td>2009-04-12</td>\n",
       "      <td>2009-04-18</td>\n",
       "      <td>PRV55912</td>\n",
       "      <td>26000</td>\n",
       "      <td>PHY390922</td>\n",
       "      <td>NaN</td>\n",
       "      <td>NaN</td>\n",
       "      <td>2009-04-12</td>\n",
       "      <td>...</td>\n",
       "      <td>2724</td>\n",
       "      <td>19889</td>\n",
       "      <td>5849</td>\n",
       "      <td>NaN</td>\n",
       "      <td>NaN</td>\n",
       "      <td>NaN</td>\n",
       "      <td>NaN</td>\n",
       "      <td>NaN</td>\n",
       "      <td>NaN</td>\n",
       "      <td>NaN</td>\n",
       "    </tr>\n",
       "    <tr>\n",
       "      <th>1</th>\n",
       "      <td>BENE11001</td>\n",
       "      <td>CLM66048</td>\n",
       "      <td>2009-08-31</td>\n",
       "      <td>2009-09-02</td>\n",
       "      <td>PRV55907</td>\n",
       "      <td>5000</td>\n",
       "      <td>PHY318495</td>\n",
       "      <td>PHY318495</td>\n",
       "      <td>NaN</td>\n",
       "      <td>2009-08-31</td>\n",
       "      <td>...</td>\n",
       "      <td>NaN</td>\n",
       "      <td>NaN</td>\n",
       "      <td>NaN</td>\n",
       "      <td>NaN</td>\n",
       "      <td>7092.0</td>\n",
       "      <td>NaN</td>\n",
       "      <td>NaN</td>\n",
       "      <td>NaN</td>\n",
       "      <td>NaN</td>\n",
       "      <td>NaN</td>\n",
       "    </tr>\n",
       "    <tr>\n",
       "      <th>2</th>\n",
       "      <td>BENE11001</td>\n",
       "      <td>CLM68358</td>\n",
       "      <td>2009-09-17</td>\n",
       "      <td>2009-09-20</td>\n",
       "      <td>PRV56046</td>\n",
       "      <td>5000</td>\n",
       "      <td>PHY372395</td>\n",
       "      <td>NaN</td>\n",
       "      <td>PHY324689</td>\n",
       "      <td>2009-09-17</td>\n",
       "      <td>...</td>\n",
       "      <td>NaN</td>\n",
       "      <td>NaN</td>\n",
       "      <td>NaN</td>\n",
       "      <td>NaN</td>\n",
       "      <td>NaN</td>\n",
       "      <td>NaN</td>\n",
       "      <td>NaN</td>\n",
       "      <td>NaN</td>\n",
       "      <td>NaN</td>\n",
       "      <td>NaN</td>\n",
       "    </tr>\n",
       "    <tr>\n",
       "      <th>3</th>\n",
       "      <td>BENE11011</td>\n",
       "      <td>CLM38412</td>\n",
       "      <td>2009-02-14</td>\n",
       "      <td>2009-02-22</td>\n",
       "      <td>PRV52405</td>\n",
       "      <td>5000</td>\n",
       "      <td>PHY369659</td>\n",
       "      <td>PHY392961</td>\n",
       "      <td>PHY349768</td>\n",
       "      <td>2009-02-14</td>\n",
       "      <td>...</td>\n",
       "      <td>25062</td>\n",
       "      <td>40390</td>\n",
       "      <td>4019</td>\n",
       "      <td>NaN</td>\n",
       "      <td>331.0</td>\n",
       "      <td>NaN</td>\n",
       "      <td>NaN</td>\n",
       "      <td>NaN</td>\n",
       "      <td>NaN</td>\n",
       "      <td>NaN</td>\n",
       "    </tr>\n",
       "    <tr>\n",
       "      <th>4</th>\n",
       "      <td>BENE11014</td>\n",
       "      <td>CLM63689</td>\n",
       "      <td>2009-08-13</td>\n",
       "      <td>2009-08-30</td>\n",
       "      <td>PRV56614</td>\n",
       "      <td>10000</td>\n",
       "      <td>PHY379376</td>\n",
       "      <td>PHY398258</td>\n",
       "      <td>NaN</td>\n",
       "      <td>2009-08-13</td>\n",
       "      <td>...</td>\n",
       "      <td>5119</td>\n",
       "      <td>29620</td>\n",
       "      <td>20300</td>\n",
       "      <td>NaN</td>\n",
       "      <td>3893.0</td>\n",
       "      <td>NaN</td>\n",
       "      <td>NaN</td>\n",
       "      <td>NaN</td>\n",
       "      <td>NaN</td>\n",
       "      <td>NaN</td>\n",
       "    </tr>\n",
       "  </tbody>\n",
       "</table>\n",
       "<p>5 rows × 30 columns</p>\n",
       "</div>"
      ],
      "text/plain": [
       "      BeneID   ClaimID ClaimStartDt  ClaimEndDt  Provider  \\\n",
       "0  BENE11001  CLM46614   2009-04-12  2009-04-18  PRV55912   \n",
       "1  BENE11001  CLM66048   2009-08-31  2009-09-02  PRV55907   \n",
       "2  BENE11001  CLM68358   2009-09-17  2009-09-20  PRV56046   \n",
       "3  BENE11011  CLM38412   2009-02-14  2009-02-22  PRV52405   \n",
       "4  BENE11014  CLM63689   2009-08-13  2009-08-30  PRV56614   \n",
       "\n",
       "   InscClaimAmtReimbursed AttendingPhysician OperatingPhysician  \\\n",
       "0                   26000          PHY390922                NaN   \n",
       "1                    5000          PHY318495          PHY318495   \n",
       "2                    5000          PHY372395                NaN   \n",
       "3                    5000          PHY369659          PHY392961   \n",
       "4                   10000          PHY379376          PHY398258   \n",
       "\n",
       "  OtherPhysician AdmissionDt        ...         ClmDiagnosisCode_7  \\\n",
       "0            NaN  2009-04-12        ...                       2724   \n",
       "1            NaN  2009-08-31        ...                        NaN   \n",
       "2      PHY324689  2009-09-17        ...                        NaN   \n",
       "3      PHY349768  2009-02-14        ...                      25062   \n",
       "4            NaN  2009-08-13        ...                       5119   \n",
       "\n",
       "   ClmDiagnosisCode_8 ClmDiagnosisCode_9 ClmDiagnosisCode_10  \\\n",
       "0               19889               5849                 NaN   \n",
       "1                 NaN                NaN                 NaN   \n",
       "2                 NaN                NaN                 NaN   \n",
       "3               40390               4019                 NaN   \n",
       "4               29620              20300                 NaN   \n",
       "\n",
       "  ClmProcedureCode_1 ClmProcedureCode_2 ClmProcedureCode_3 ClmProcedureCode_4  \\\n",
       "0                NaN                NaN                NaN                NaN   \n",
       "1             7092.0                NaN                NaN                NaN   \n",
       "2                NaN                NaN                NaN                NaN   \n",
       "3              331.0                NaN                NaN                NaN   \n",
       "4             3893.0                NaN                NaN                NaN   \n",
       "\n",
       "  ClmProcedureCode_5 ClmProcedureCode_6  \n",
       "0                NaN                NaN  \n",
       "1                NaN                NaN  \n",
       "2                NaN                NaN  \n",
       "3                NaN                NaN  \n",
       "4                NaN                NaN  \n",
       "\n",
       "[5 rows x 30 columns]"
      ]
     },
     "execution_count": 2,
     "metadata": {},
     "output_type": "execute_result"
    }
   ],
   "source": [
    "tr_in = pd.read_csv('Train_Inpatientdata-1542865627584.csv')\n",
    "print(tr_in.shape)\n",
    "tr_in.head()"
   ]
  },
  {
   "cell_type": "code",
   "execution_count": 3,
   "metadata": {},
   "outputs": [],
   "source": [
    "tr_in['Inpatient'] = 1\n",
    "tr_in['Outpatient'] = 0"
   ]
  },
  {
   "cell_type": "code",
   "execution_count": 4,
   "metadata": {},
   "outputs": [],
   "source": [
    "tr_in['ClaimStartDt'] = pd.to_datetime(tr_in['ClaimStartDt'])\n",
    "tr_in['ClaimEndDt'] = pd.to_datetime(tr_in['ClaimEndDt'])\n",
    "tr_in['Claim_Days_Elapsed'] = (tr_in['ClaimEndDt'] - tr_in['ClaimStartDt']).dt.days"
   ]
  },
  {
   "cell_type": "code",
   "execution_count": 5,
   "metadata": {},
   "outputs": [
    {
     "data": {
      "text/plain": [
       "6"
      ]
     },
     "execution_count": 5,
     "metadata": {},
     "output_type": "execute_result"
    }
   ],
   "source": [
    "(tr_in['ClaimEndDt'][0] - tr_in['ClaimStartDt'][0]).days"
   ]
  },
  {
   "cell_type": "code",
   "execution_count": 6,
   "metadata": {},
   "outputs": [],
   "source": [
    "tr_in['AdmissionDt'] = pd.to_datetime(tr_in['AdmissionDt']) \n",
    "tr_in['DischargeDt'] = pd.to_datetime(tr_in['DischargeDt'])\n",
    "tr_in['Admitted_Days'] = (tr_in['DischargeDt'] - tr_in['AdmissionDt']).dt.days"
   ]
  },
  {
   "cell_type": "code",
   "execution_count": 7,
   "metadata": {
    "scrolled": true
   },
   "outputs": [
    {
     "name": "stdout",
     "output_type": "stream",
     "text": [
      "34\n"
     ]
    },
    {
     "data": {
      "text/plain": [
       "Index(['BeneID', 'ClaimID', 'ClaimStartDt', 'ClaimEndDt', 'Provider',\n",
       "       'InscClaimAmtReimbursed', 'AttendingPhysician', 'OperatingPhysician',\n",
       "       'OtherPhysician', 'AdmissionDt', 'ClmAdmitDiagnosisCode',\n",
       "       'DeductibleAmtPaid', 'DischargeDt', 'DiagnosisGroupCode',\n",
       "       'ClmDiagnosisCode_1', 'ClmDiagnosisCode_2', 'ClmDiagnosisCode_3',\n",
       "       'ClmDiagnosisCode_4', 'ClmDiagnosisCode_5', 'ClmDiagnosisCode_6',\n",
       "       'ClmDiagnosisCode_7', 'ClmDiagnosisCode_8', 'ClmDiagnosisCode_9',\n",
       "       'ClmDiagnosisCode_10', 'ClmProcedureCode_1', 'ClmProcedureCode_2',\n",
       "       'ClmProcedureCode_3', 'ClmProcedureCode_4', 'ClmProcedureCode_5',\n",
       "       'ClmProcedureCode_6', 'Inpatient', 'Outpatient', 'Claim_Days_Elapsed',\n",
       "       'Admitted_Days'],\n",
       "      dtype='object')"
      ]
     },
     "execution_count": 7,
     "metadata": {},
     "output_type": "execute_result"
    }
   ],
   "source": [
    "print(len(tr_in.columns))\n",
    "tr_in.columns"
   ]
  },
  {
   "cell_type": "code",
   "execution_count": 8,
   "metadata": {},
   "outputs": [
    {
     "data": {
      "text/html": [
       "<div>\n",
       "<style scoped>\n",
       "    .dataframe tbody tr th:only-of-type {\n",
       "        vertical-align: middle;\n",
       "    }\n",
       "\n",
       "    .dataframe tbody tr th {\n",
       "        vertical-align: top;\n",
       "    }\n",
       "\n",
       "    .dataframe thead th {\n",
       "        text-align: right;\n",
       "    }\n",
       "</style>\n",
       "<table border=\"1\" class=\"dataframe\">\n",
       "  <thead>\n",
       "    <tr style=\"text-align: right;\">\n",
       "      <th></th>\n",
       "      <th>InscClaimAmtReimbursed</th>\n",
       "      <th>DeductibleAmtPaid</th>\n",
       "      <th>ClmProcedureCode_1</th>\n",
       "      <th>ClmProcedureCode_2</th>\n",
       "      <th>ClmProcedureCode_3</th>\n",
       "      <th>ClmProcedureCode_4</th>\n",
       "      <th>ClmProcedureCode_5</th>\n",
       "      <th>ClmProcedureCode_6</th>\n",
       "      <th>Inpatient</th>\n",
       "      <th>Outpatient</th>\n",
       "      <th>Claim_Days_Elapsed</th>\n",
       "      <th>Admitted_Days</th>\n",
       "    </tr>\n",
       "  </thead>\n",
       "  <tbody>\n",
       "    <tr>\n",
       "      <th>count</th>\n",
       "      <td>40474.000000</td>\n",
       "      <td>39575.0</td>\n",
       "      <td>23148.000000</td>\n",
       "      <td>5454.000000</td>\n",
       "      <td>965.000000</td>\n",
       "      <td>116.000000</td>\n",
       "      <td>9.000000</td>\n",
       "      <td>0.0</td>\n",
       "      <td>40474.0</td>\n",
       "      <td>40474.0</td>\n",
       "      <td>40474.000000</td>\n",
       "      <td>40474.000000</td>\n",
       "    </tr>\n",
       "    <tr>\n",
       "      <th>mean</th>\n",
       "      <td>10087.884074</td>\n",
       "      <td>1068.0</td>\n",
       "      <td>5894.611759</td>\n",
       "      <td>4103.738174</td>\n",
       "      <td>4226.355440</td>\n",
       "      <td>4070.172414</td>\n",
       "      <td>5269.444444</td>\n",
       "      <td>NaN</td>\n",
       "      <td>1.0</td>\n",
       "      <td>0.0</td>\n",
       "      <td>5.660251</td>\n",
       "      <td>5.665168</td>\n",
       "    </tr>\n",
       "    <tr>\n",
       "      <th>std</th>\n",
       "      <td>10303.099402</td>\n",
       "      <td>0.0</td>\n",
       "      <td>3049.304400</td>\n",
       "      <td>2028.182156</td>\n",
       "      <td>2282.761581</td>\n",
       "      <td>1994.409802</td>\n",
       "      <td>2780.071632</td>\n",
       "      <td>NaN</td>\n",
       "      <td>0.0</td>\n",
       "      <td>0.0</td>\n",
       "      <td>5.628873</td>\n",
       "      <td>5.638538</td>\n",
       "    </tr>\n",
       "    <tr>\n",
       "      <th>min</th>\n",
       "      <td>0.000000</td>\n",
       "      <td>1068.0</td>\n",
       "      <td>11.000000</td>\n",
       "      <td>42.000000</td>\n",
       "      <td>42.000000</td>\n",
       "      <td>42.000000</td>\n",
       "      <td>2724.000000</td>\n",
       "      <td>NaN</td>\n",
       "      <td>1.0</td>\n",
       "      <td>0.0</td>\n",
       "      <td>0.000000</td>\n",
       "      <td>0.000000</td>\n",
       "    </tr>\n",
       "    <tr>\n",
       "      <th>25%</th>\n",
       "      <td>4000.000000</td>\n",
       "      <td>1068.0</td>\n",
       "      <td>3848.000000</td>\n",
       "      <td>2724.000000</td>\n",
       "      <td>2724.000000</td>\n",
       "      <td>2758.750000</td>\n",
       "      <td>4139.000000</td>\n",
       "      <td>NaN</td>\n",
       "      <td>1.0</td>\n",
       "      <td>0.0</td>\n",
       "      <td>2.000000</td>\n",
       "      <td>2.000000</td>\n",
       "    </tr>\n",
       "    <tr>\n",
       "      <th>50%</th>\n",
       "      <td>7000.000000</td>\n",
       "      <td>1068.0</td>\n",
       "      <td>5369.000000</td>\n",
       "      <td>4019.000000</td>\n",
       "      <td>4019.000000</td>\n",
       "      <td>4019.000000</td>\n",
       "      <td>4139.000000</td>\n",
       "      <td>NaN</td>\n",
       "      <td>1.0</td>\n",
       "      <td>0.0</td>\n",
       "      <td>4.000000</td>\n",
       "      <td>4.000000</td>\n",
       "    </tr>\n",
       "    <tr>\n",
       "      <th>75%</th>\n",
       "      <td>12000.000000</td>\n",
       "      <td>1068.0</td>\n",
       "      <td>8666.250000</td>\n",
       "      <td>4439.000000</td>\n",
       "      <td>5185.000000</td>\n",
       "      <td>4439.000000</td>\n",
       "      <td>5185.000000</td>\n",
       "      <td>NaN</td>\n",
       "      <td>1.0</td>\n",
       "      <td>0.0</td>\n",
       "      <td>7.000000</td>\n",
       "      <td>7.000000</td>\n",
       "    </tr>\n",
       "    <tr>\n",
       "      <th>max</th>\n",
       "      <td>125000.000000</td>\n",
       "      <td>1068.0</td>\n",
       "      <td>9999.000000</td>\n",
       "      <td>9999.000000</td>\n",
       "      <td>9999.000000</td>\n",
       "      <td>9986.000000</td>\n",
       "      <td>9982.000000</td>\n",
       "      <td>NaN</td>\n",
       "      <td>1.0</td>\n",
       "      <td>0.0</td>\n",
       "      <td>36.000000</td>\n",
       "      <td>35.000000</td>\n",
       "    </tr>\n",
       "  </tbody>\n",
       "</table>\n",
       "</div>"
      ],
      "text/plain": [
       "       InscClaimAmtReimbursed  DeductibleAmtPaid  ClmProcedureCode_1  \\\n",
       "count            40474.000000            39575.0        23148.000000   \n",
       "mean             10087.884074             1068.0         5894.611759   \n",
       "std              10303.099402                0.0         3049.304400   \n",
       "min                  0.000000             1068.0           11.000000   \n",
       "25%               4000.000000             1068.0         3848.000000   \n",
       "50%               7000.000000             1068.0         5369.000000   \n",
       "75%              12000.000000             1068.0         8666.250000   \n",
       "max             125000.000000             1068.0         9999.000000   \n",
       "\n",
       "       ClmProcedureCode_2  ClmProcedureCode_3  ClmProcedureCode_4  \\\n",
       "count         5454.000000          965.000000          116.000000   \n",
       "mean          4103.738174         4226.355440         4070.172414   \n",
       "std           2028.182156         2282.761581         1994.409802   \n",
       "min             42.000000           42.000000           42.000000   \n",
       "25%           2724.000000         2724.000000         2758.750000   \n",
       "50%           4019.000000         4019.000000         4019.000000   \n",
       "75%           4439.000000         5185.000000         4439.000000   \n",
       "max           9999.000000         9999.000000         9986.000000   \n",
       "\n",
       "       ClmProcedureCode_5  ClmProcedureCode_6  Inpatient  Outpatient  \\\n",
       "count            9.000000                 0.0    40474.0     40474.0   \n",
       "mean          5269.444444                 NaN        1.0         0.0   \n",
       "std           2780.071632                 NaN        0.0         0.0   \n",
       "min           2724.000000                 NaN        1.0         0.0   \n",
       "25%           4139.000000                 NaN        1.0         0.0   \n",
       "50%           4139.000000                 NaN        1.0         0.0   \n",
       "75%           5185.000000                 NaN        1.0         0.0   \n",
       "max           9982.000000                 NaN        1.0         0.0   \n",
       "\n",
       "       Claim_Days_Elapsed  Admitted_Days  \n",
       "count        40474.000000   40474.000000  \n",
       "mean             5.660251       5.665168  \n",
       "std              5.628873       5.638538  \n",
       "min              0.000000       0.000000  \n",
       "25%              2.000000       2.000000  \n",
       "50%              4.000000       4.000000  \n",
       "75%              7.000000       7.000000  \n",
       "max             36.000000      35.000000  "
      ]
     },
     "execution_count": 8,
     "metadata": {},
     "output_type": "execute_result"
    }
   ],
   "source": [
    "tr_in.describe()"
   ]
  },
  {
   "cell_type": "code",
   "execution_count": 9,
   "metadata": {},
   "outputs": [
    {
     "data": {
      "text/plain": [
       "2092"
      ]
     },
     "execution_count": 9,
     "metadata": {},
     "output_type": "execute_result"
    }
   ],
   "source": [
    "len(tr_in.Provider.unique())"
   ]
  },
  {
   "cell_type": "code",
   "execution_count": 38,
   "metadata": {},
   "outputs": [
    {
     "data": {
      "text/plain": [
       "40474"
      ]
     },
     "execution_count": 38,
     "metadata": {},
     "output_type": "execute_result"
    }
   ],
   "source": [
    "len(tr_in.ClaimID.unique())"
   ]
  },
  {
   "cell_type": "code",
   "execution_count": 39,
   "metadata": {},
   "outputs": [
    {
     "data": {
      "text/plain": [
       "11605"
      ]
     },
     "execution_count": 39,
     "metadata": {},
     "output_type": "execute_result"
    }
   ],
   "source": [
    "len(tr_in.AttendingPhysician.unique())"
   ]
  },
  {
   "cell_type": "code",
   "execution_count": 41,
   "metadata": {},
   "outputs": [
    {
     "data": {
      "text/plain": [
       "8288"
      ]
     },
     "execution_count": 41,
     "metadata": {},
     "output_type": "execute_result"
    }
   ],
   "source": [
    "len(tr_in.OperatingPhysician.unique())"
   ]
  },
  {
   "cell_type": "code",
   "execution_count": 42,
   "metadata": {},
   "outputs": [
    {
     "data": {
      "text/plain": [
       "2878"
      ]
     },
     "execution_count": 42,
     "metadata": {},
     "output_type": "execute_result"
    }
   ],
   "source": [
    "len(tr_in.OtherPhysician.unique())"
   ]
  },
  {
   "cell_type": "code",
   "execution_count": 43,
   "metadata": {},
   "outputs": [
    {
     "data": {
      "text/plain": [
       "22771"
      ]
     },
     "execution_count": 43,
     "metadata": {},
     "output_type": "execute_result"
    }
   ],
   "source": [
    "11605 + 8288 + 2878"
   ]
  },
  {
   "cell_type": "code",
   "execution_count": 10,
   "metadata": {
    "scrolled": true
   },
   "outputs": [
    {
     "data": {
      "text/plain": [
       "PRV52019    516\n",
       "PRV55462    386\n",
       "PRV54367    322\n",
       "PRV53706    282\n",
       "PRV55209    275\n",
       "PRV56560    248\n",
       "PRV54742    231\n",
       "PRV55230    225\n",
       "PRV52340    224\n",
       "PRV51501    223\n",
       "PRV56416    214\n",
       "PRV52135    210\n",
       "PRV54955    205\n",
       "PRV51244    200\n",
       "PRV51560    200\n",
       "PRV54765    196\n",
       "PRV53808    195\n",
       "PRV51940    193\n",
       "PRV57191    185\n",
       "PRV52021    181\n",
       "PRV52846    175\n",
       "PRV52821    173\n",
       "PRV55194    169\n",
       "PRV52903    167\n",
       "PRV52120    165\n",
       "PRV51390    164\n",
       "PRV52100    164\n",
       "PRV51146    162\n",
       "PRV52123    162\n",
       "PRV53712    161\n",
       "           ... \n",
       "PRV51626      1\n",
       "PRV53511      1\n",
       "PRV53429      1\n",
       "PRV56752      1\n",
       "PRV52463      1\n",
       "PRV51137      1\n",
       "PRV56242      1\n",
       "PRV55151      1\n",
       "PRV51898      1\n",
       "PRV56271      1\n",
       "PRV54373      1\n",
       "PRV51806      1\n",
       "PRV53416      1\n",
       "PRV51232      1\n",
       "PRV55816      1\n",
       "PRV54414      1\n",
       "PRV56485      1\n",
       "PRV52850      1\n",
       "PRV55032      1\n",
       "PRV54503      1\n",
       "PRV53127      1\n",
       "PRV53289      1\n",
       "PRV53128      1\n",
       "PRV54590      1\n",
       "PRV56202      1\n",
       "PRV53431      1\n",
       "PRV51943      1\n",
       "PRV56834      1\n",
       "PRV52610      1\n",
       "PRV56038      1\n",
       "Name: Provider, Length: 2092, dtype: int64"
      ]
     },
     "execution_count": 10,
     "metadata": {},
     "output_type": "execute_result"
    }
   ],
   "source": [
    "tr_in.Provider.value_counts()"
   ]
  },
  {
   "cell_type": "code",
   "execution_count": 12,
   "metadata": {},
   "outputs": [
    {
     "data": {
      "text/plain": [
       "Index(['PRV52019', 'PRV55462', 'PRV54367', 'PRV53706', 'PRV55209', 'PRV56560',\n",
       "       'PRV54742', 'PRV55230', 'PRV52340', 'PRV51501'],\n",
       "      dtype='object')"
      ]
     },
     "execution_count": 12,
     "metadata": {},
     "output_type": "execute_result"
    }
   ],
   "source": [
    "tr_in.Provider.value_counts().index[:10]"
   ]
  },
  {
   "cell_type": "code",
   "execution_count": 158,
   "metadata": {
    "scrolled": false
   },
   "outputs": [
    {
     "data": {
      "text/plain": [
       "Text(0, 0.5, 'Provider')"
      ]
     },
     "execution_count": 158,
     "metadata": {},
     "output_type": "execute_result"
    },
    {
     "data": {
      "image/png": "[encoded data removed]",
      "text/plain": [
       "<Figure size 720x360 with 1 Axes>"
      ]
     },
     "metadata": {
      "needs_background": "light"
     },
     "output_type": "display_data"
    }
   ],
   "source": [
    "plt.figure(figsize=(10,5))\n",
    "sns.barplot(tr_in.Provider.value_counts().values[:10],tr_in.Provider.value_counts().index[:10] )\n",
    "plt.title('# of Claims by Provider (Inpatient)')\n",
    "plt.xlabel('# of Claims')\n",
    "plt.ylabel('Provider')"
   ]
  },
  {
   "cell_type": "code",
   "execution_count": 159,
   "metadata": {},
   "outputs": [
    {
     "data": {
      "text/plain": [
       "Text(0, 0.5, '# of Claims')"
      ]
     },
     "execution_count": 159,
     "metadata": {},
     "output_type": "execute_result"
    },
    {
     "data": {
      "image/png": "[encoded data removed]",
      "text/plain": [
       "<Figure size 720x360 with 1 Axes>"
      ]
     },
     "metadata": {
      "needs_background": "light"
     },
     "output_type": "display_data"
    }
   ],
   "source": [
    "plt.figure(figsize=(10,5))\n",
    "sns.barplot(tr_in.Provider.value_counts().index[:100],tr_in.Provider.value_counts().values[:100] )\n",
    "plt.title('# of Claims by Provider (Inpatient)')\n",
    "plt.xlabel('Provider')\n",
    "plt.xticks(rotation=90)\n",
    "plt.ylabel('# of Claims')"
   ]
  },
  {
   "cell_type": "code",
   "execution_count": 45,
   "metadata": {
    "scrolled": true
   },
   "outputs": [
    {
     "data": {
      "text/plain": [
       "<matplotlib.axes._subplots.AxesSubplot at 0x1a23d61978>"
      ]
     },
     "execution_count": 45,
     "metadata": {},
     "output_type": "execute_result"
    },
    {
     "data": {
      "image/png": "[encoded data removed]",
      "text/plain": [
       "<Figure size 432x288 with 1 Axes>"
      ]
     },
     "metadata": {
      "needs_background": "light"
     },
     "output_type": "display_data"
    }
   ],
   "source": [
    "sns.distplot(tr_in.Provider.value_counts().values[:100], bins=50)"
   ]
  },
  {
   "cell_type": "code",
   "execution_count": 29,
   "metadata": {},
   "outputs": [
    {
     "data": {
      "text/plain": [
       "19.347036328871894"
      ]
     },
     "execution_count": 29,
     "metadata": {},
     "output_type": "execute_result"
    }
   ],
   "source": [
    "tr_in.Provider.value_counts().values.mean()"
   ]
  },
  {
   "cell_type": "code",
   "execution_count": 37,
   "metadata": {},
   "outputs": [
    {
     "data": {
      "text/plain": [
       "144.12"
      ]
     },
     "execution_count": 37,
     "metadata": {},
     "output_type": "execute_result"
    }
   ],
   "source": [
    "tr_in.Provider.value_counts().values[:100].mean()"
   ]
  },
  {
   "cell_type": "code",
   "execution_count": 19,
   "metadata": {
    "scrolled": true
   },
   "outputs": [
    {
     "data": {
      "text/plain": [
       "46        2\n",
       "177       3\n",
       "270       4\n",
       "437       4\n",
       "452       1\n",
       "561       5\n",
       "679       4\n",
       "722       4\n",
       "846       3\n",
       "877       5\n",
       "930       9\n",
       "1119     35\n",
       "1149     31\n",
       "1187     16\n",
       "1267      9\n",
       "1636      0\n",
       "1657      6\n",
       "1821      7\n",
       "1963      6\n",
       "2092      7\n",
       "2326      8\n",
       "2504      3\n",
       "2520      7\n",
       "2551      4\n",
       "2568      8\n",
       "2591      3\n",
       "2592      1\n",
       "2608      2\n",
       "2611      5\n",
       "2612     13\n",
       "         ..\n",
       "37991     4\n",
       "38096    10\n",
       "38326    23\n",
       "38339     1\n",
       "38452     7\n",
       "38541     3\n",
       "38624     2\n",
       "38702     3\n",
       "38794     3\n",
       "38808     2\n",
       "38820    20\n",
       "38845     6\n",
       "39199     2\n",
       "39363     2\n",
       "39388     3\n",
       "39423     2\n",
       "39439     3\n",
       "39480    14\n",
       "39610    33\n",
       "39611     2\n",
       "39612    36\n",
       "39692    21\n",
       "39807     2\n",
       "39833     3\n",
       "40045     9\n",
       "40163    10\n",
       "40185     4\n",
       "40200     3\n",
       "40305     1\n",
       "40422     5\n",
       "Name: Claim_Days_Elapsed, Length: 516, dtype: int64"
      ]
     },
     "execution_count": 19,
     "metadata": {},
     "output_type": "execute_result"
    }
   ],
   "source": [
    "top_prov = tr_in['Claim_Days_Elapsed'][tr_in['Provider']=='PRV52019']\n",
    "top_prov"
   ]
  },
  {
   "cell_type": "code",
   "execution_count": 23,
   "metadata": {
    "scrolled": true
   },
   "outputs": [
    {
     "data": {
      "text/plain": [
       "Text(0.5, 1.0, 'Top Provider vs Claim Days Elapsed')"
      ]
     },
     "execution_count": 23,
     "metadata": {},
     "output_type": "execute_result"
    },
    {
     "data": {
      "image/png": "[encoded data removed]",
      "text/plain": [
       "<Figure size 720x360 with 1 Axes>"
      ]
     },
     "metadata": {
      "needs_background": "light"
     },
     "output_type": "display_data"
    }
   ],
   "source": [
    "plt.figure(figsize=(10,5))\n",
    "sns.barplot(top_prov.index, top_prov.values, alpha=0.8)\n",
    "plt.title('Top Provider vs Claim Days Elapsed')"
   ]
  },
  {
   "cell_type": "code",
   "execution_count": 39,
   "metadata": {
    "scrolled": true
   },
   "outputs": [
    {
     "data": {
      "text/plain": [
       "Text(0.5, 1.0, 'Top Provider vs Claim Days Elapsed')"
      ]
     },
     "execution_count": 39,
     "metadata": {},
     "output_type": "execute_result"
    },
    {
     "data": {
      "image/png": "[encoded data removed]",
      "text/plain": [
       "<Figure size 720x360 with 1 Axes>"
      ]
     },
     "metadata": {
      "needs_background": "light"
     },
     "output_type": "display_data"
    }
   ],
   "source": [
    "plt.figure(figsize=(10,5))\n",
    "sns.barplot(top_prov.values, top_prov.index, alpha=0.8)\n",
    "plt.title('Top Provider vs Claim Days Elapsed')"
   ]
  },
  {
   "cell_type": "code",
   "execution_count": null,
   "metadata": {},
   "outputs": [],
   "source": [
    "plt.figure(figsize=(10,5))\n",
    "sns.barplot(top_prov.values, top_prov.index, alpha=0.8)\n",
    "plt.title('Top Provider vs Claim Days Elapsed')"
   ]
  },
  {
   "cell_type": "code",
   "execution_count": 33,
   "metadata": {},
   "outputs": [
    {
     "data": {
      "text/plain": [
       "Text(0.5, 1.0, 'Provder vs Claim Days')"
      ]
     },
     "execution_count": 33,
     "metadata": {},
     "output_type": "execute_result"
    },
    {
     "data": {
      "image/png": "[encoded data removed]",
      "text/plain": [
       "<Figure size 432x288 with 1 Axes>"
      ]
     },
     "metadata": {
      "needs_background": "light"
     },
     "output_type": "display_data"
    }
   ],
   "source": [
    "sns.scatterplot(x=tr_in['Claim_Days_Elapsed'], y=tr_in['Provider']).set_title(\"Provder vs Claim Days\")"
   ]
  },
  {
   "cell_type": "code",
   "execution_count": 32,
   "metadata": {},
   "outputs": [
    {
     "data": {
      "text/plain": [
       "Text(0.5, 1.0, 'Admitted Days vs Claim Days')"
      ]
     },
     "execution_count": 32,
     "metadata": {},
     "output_type": "execute_result"
    },
    {
     "data": {
      "image/png": "[encoded data removed]",
      "text/plain": [
       "<Figure size 432x288 with 1 Axes>"
      ]
     },
     "metadata": {
      "needs_background": "light"
     },
     "output_type": "display_data"
    }
   ],
   "source": [
    "sns.scatterplot(x=tr_in['Claim_Days_Elapsed'], y=tr_in['Admitted_Days']).set_title('Admitted Days vs Claim Days')"
   ]
  },
  {
   "cell_type": "code",
   "execution_count": 55,
   "metadata": {},
   "outputs": [
    {
     "data": {
      "text/html": [
       "<div>\n",
       "<style scoped>\n",
       "    .dataframe tbody tr th:only-of-type {\n",
       "        vertical-align: middle;\n",
       "    }\n",
       "\n",
       "    .dataframe tbody tr th {\n",
       "        vertical-align: top;\n",
       "    }\n",
       "\n",
       "    .dataframe thead th {\n",
       "        text-align: right;\n",
       "    }\n",
       "</style>\n",
       "<table border=\"1\" class=\"dataframe\">\n",
       "  <thead>\n",
       "    <tr style=\"text-align: right;\">\n",
       "      <th></th>\n",
       "      <th>Claim_Days_Elapsed</th>\n",
       "      <th>Admitted_Days</th>\n",
       "    </tr>\n",
       "  </thead>\n",
       "  <tbody>\n",
       "    <tr>\n",
       "      <th>0</th>\n",
       "      <td>6</td>\n",
       "      <td>6</td>\n",
       "    </tr>\n",
       "    <tr>\n",
       "      <th>1</th>\n",
       "      <td>2</td>\n",
       "      <td>2</td>\n",
       "    </tr>\n",
       "    <tr>\n",
       "      <th>2</th>\n",
       "      <td>3</td>\n",
       "      <td>3</td>\n",
       "    </tr>\n",
       "    <tr>\n",
       "      <th>3</th>\n",
       "      <td>8</td>\n",
       "      <td>8</td>\n",
       "    </tr>\n",
       "    <tr>\n",
       "      <th>4</th>\n",
       "      <td>17</td>\n",
       "      <td>17</td>\n",
       "    </tr>\n",
       "    <tr>\n",
       "      <th>5</th>\n",
       "      <td>6</td>\n",
       "      <td>6</td>\n",
       "    </tr>\n",
       "    <tr>\n",
       "      <th>6</th>\n",
       "      <td>5</td>\n",
       "      <td>5</td>\n",
       "    </tr>\n",
       "    <tr>\n",
       "      <th>7</th>\n",
       "      <td>4</td>\n",
       "      <td>4</td>\n",
       "    </tr>\n",
       "    <tr>\n",
       "      <th>8</th>\n",
       "      <td>3</td>\n",
       "      <td>3</td>\n",
       "    </tr>\n",
       "    <tr>\n",
       "      <th>9</th>\n",
       "      <td>7</td>\n",
       "      <td>7</td>\n",
       "    </tr>\n",
       "    <tr>\n",
       "      <th>10</th>\n",
       "      <td>8</td>\n",
       "      <td>8</td>\n",
       "    </tr>\n",
       "    <tr>\n",
       "      <th>11</th>\n",
       "      <td>7</td>\n",
       "      <td>7</td>\n",
       "    </tr>\n",
       "    <tr>\n",
       "      <th>12</th>\n",
       "      <td>3</td>\n",
       "      <td>3</td>\n",
       "    </tr>\n",
       "    <tr>\n",
       "      <th>13</th>\n",
       "      <td>5</td>\n",
       "      <td>5</td>\n",
       "    </tr>\n",
       "    <tr>\n",
       "      <th>14</th>\n",
       "      <td>6</td>\n",
       "      <td>6</td>\n",
       "    </tr>\n",
       "  </tbody>\n",
       "</table>\n",
       "</div>"
      ],
      "text/plain": [
       "    Claim_Days_Elapsed  Admitted_Days\n",
       "0                    6              6\n",
       "1                    2              2\n",
       "2                    3              3\n",
       "3                    8              8\n",
       "4                   17             17\n",
       "5                    6              6\n",
       "6                    5              5\n",
       "7                    4              4\n",
       "8                    3              3\n",
       "9                    7              7\n",
       "10                   8              8\n",
       "11                   7              7\n",
       "12                   3              3\n",
       "13                   5              5\n",
       "14                   6              6"
      ]
     },
     "execution_count": 55,
     "metadata": {},
     "output_type": "execute_result"
    }
   ],
   "source": [
    "tr_in[['Claim_Days_Elapsed', 'Admitted_Days']].head(15)"
   ]
  },
  {
   "cell_type": "code",
   "execution_count": 34,
   "metadata": {},
   "outputs": [
    {
     "data": {
      "text/plain": [
       "Text(0.5, 1.0, 'Admitted Days vs Provider')"
      ]
     },
     "execution_count": 34,
     "metadata": {},
     "output_type": "execute_result"
    },
    {
     "data": {
      "image/png": "[encoded data removed]",
      "text/plain": [
       "<Figure size 432x288 with 1 Axes>"
      ]
     },
     "metadata": {
      "needs_background": "light"
     },
     "output_type": "display_data"
    }
   ],
   "source": [
    "sns.scatterplot(x=tr_in['Admitted_Days'], y=tr_in['Provider']).set_title('Admitted Days vs Provider')"
   ]
  },
  {
   "cell_type": "code",
   "execution_count": 35,
   "metadata": {},
   "outputs": [
    {
     "data": {
      "text/plain": [
       "<matplotlib.axes._subplots.AxesSubplot at 0x1a290169b0>"
      ]
     },
     "execution_count": 35,
     "metadata": {},
     "output_type": "execute_result"
    },
    {
     "data": {
      "image/png": "[encoded data removed]",
      "text/plain": [
       "<Figure size 432x288 with 1 Axes>"
      ]
     },
     "metadata": {
      "needs_background": "light"
     },
     "output_type": "display_data"
    }
   ],
   "source": [
    "sns.barplot(tr_in['Admitted_Days'], tr_in['Provider'])"
   ]
  },
  {
   "cell_type": "code",
   "execution_count": 63,
   "metadata": {},
   "outputs": [
    {
     "data": {
      "text/plain": [
       "<matplotlib.axes._subplots.AxesSubplot at 0x1a359d8dd8>"
      ]
     },
     "execution_count": 63,
     "metadata": {},
     "output_type": "execute_result"
    },
    {
     "data": {
      "image/png": "[encoded data removed]",
      "text/plain": [
       "<Figure size 432x288 with 1 Axes>"
      ]
     },
     "metadata": {
      "needs_background": "light"
     },
     "output_type": "display_data"
    }
   ],
   "source": [
    "sns.barplot(tr_in['Admitted_Days'][:15], tr_in['Provider'][:15])"
   ]
  },
  {
   "cell_type": "code",
   "execution_count": 107,
   "metadata": {
    "scrolled": true
   },
   "outputs": [
    {
     "data": {
      "text/plain": [
       "Provider\n",
       "PRV57080    35.0\n",
       "PRV56179    33.0\n",
       "PRV53449    28.0\n",
       "PRV55213    27.0\n",
       "PRV53431    24.0\n",
       "PRV57094    20.0\n",
       "PRV55067    20.0\n",
       "PRV54817    19.0\n",
       "PRV52537    19.0\n",
       "PRV55126    19.0\n",
       "PRV53510    18.0\n",
       "PRV52706    18.0\n",
       "PRV55586    18.0\n",
       "PRV54434    18.0\n",
       "PRV56038    18.0\n",
       "Name: Admitted_Days, dtype: float64"
      ]
     },
     "execution_count": 107,
     "metadata": {},
     "output_type": "execute_result"
    }
   ],
   "source": [
    "admit_days_mean = round(tr_in.groupby(['Provider']).Admitted_Days.mean()).sort_values(ascending=False)\n",
    "admit_days_mean.head(15)"
   ]
  },
  {
   "cell_type": "code",
   "execution_count": 102,
   "metadata": {},
   "outputs": [
    {
     "data": {
      "text/plain": [
       "6"
      ]
     },
     "execution_count": 102,
     "metadata": {},
     "output_type": "execute_result"
    }
   ],
   "source": [
    "round(tr_in.Admitted_Days.mean())"
   ]
  },
  {
   "cell_type": "code",
   "execution_count": 108,
   "metadata": {},
   "outputs": [
    {
     "data": {
      "text/plain": [
       "Text(0, 0.5, 'Provider')"
      ]
     },
     "execution_count": 108,
     "metadata": {},
     "output_type": "execute_result"
    },
    {
     "data": {
      "image/png": "[encoded data removed]",
      "text/plain": [
       "<Figure size 360x576 with 1 Axes>"
      ]
     },
     "metadata": {
      "needs_background": "light"
     },
     "output_type": "display_data"
    }
   ],
   "source": [
    "plt.figure(figsize=(5,8))\n",
    "sns.barplot(admit_days_mean.values[:15], admit_days_mean.index[:15])\n",
    "plt.title('Avg Admitted Days By Provider')\n",
    "plt.xlabel('Avg Admitted Days')\n",
    "plt.ylabel('Provider')"
   ]
  },
  {
   "cell_type": "code",
   "execution_count": 71,
   "metadata": {
    "scrolled": true
   },
   "outputs": [
    {
     "data": {
      "text/plain": [
       "Provider\n",
       "PRV57080    35.000000\n",
       "PRV56179    33.000000\n",
       "PRV53449    28.000000\n",
       "PRV55213    26.666667\n",
       "PRV53431    24.000000\n",
       "PRV55067    20.000000\n",
       "PRV57094    20.000000\n",
       "PRV55126    19.000000\n",
       "PRV54817    19.000000\n",
       "PRV52537    19.000000\n",
       "PRV55586    18.500000\n",
       "PRV52706    18.500000\n",
       "PRV54434    18.000000\n",
       "PRV56038    18.000000\n",
       "PRV53510    18.000000\n",
       "PRV51822    17.000000\n",
       "PRV51354    17.000000\n",
       "PRV56408    17.000000\n",
       "PRV52518    17.000000\n",
       "PRV53509    17.000000\n",
       "PRV56135    17.000000\n",
       "PRV52833    16.750000\n",
       "PRV56658    16.000000\n",
       "PRV51166    16.000000\n",
       "PRV53989    16.000000\n",
       "PRV56390    15.500000\n",
       "PRV57399    15.000000\n",
       "PRV56286    15.000000\n",
       "PRV56276    15.000000\n",
       "PRV56142    14.800000\n",
       "              ...    \n",
       "PRV52031     1.000000\n",
       "PRV53329     1.000000\n",
       "PRV54263     1.000000\n",
       "PRV53312     1.000000\n",
       "PRV54341     1.000000\n",
       "PRV53764     1.000000\n",
       "PRV51958     1.000000\n",
       "PRV51236     1.000000\n",
       "PRV56247     1.000000\n",
       "PRV55151     1.000000\n",
       "PRV51237     1.000000\n",
       "PRV52816     1.000000\n",
       "PRV54878     1.000000\n",
       "PRV52610     1.000000\n",
       "PRV55032     1.000000\n",
       "PRV51138     1.000000\n",
       "PRV52841     1.000000\n",
       "PRV53061     1.000000\n",
       "PRV57526     1.000000\n",
       "PRV55481     1.000000\n",
       "PRV56487     1.000000\n",
       "PRV52163     1.000000\n",
       "PRV56271     1.000000\n",
       "PRV54499     1.000000\n",
       "PRV57445     0.500000\n",
       "PRV56908     0.000000\n",
       "PRV56242     0.000000\n",
       "PRV53471     0.000000\n",
       "PRV56485     0.000000\n",
       "PRV54668     0.000000\n",
       "Name: Claim_Days_Elapsed, Length: 2092, dtype: float64"
      ]
     },
     "execution_count": 71,
     "metadata": {},
     "output_type": "execute_result"
    }
   ],
   "source": [
    "claim_days_mean = tr_in.groupby(['Provider']).Claim_Days_Elapsed.mean().sort_values(ascending=False)\n",
    "claim_days_mean"
   ]
  },
  {
   "cell_type": "code",
   "execution_count": 72,
   "metadata": {},
   "outputs": [
    {
     "data": {
      "text/plain": [
       "Text(0, 0.5, 'Provider')"
      ]
     },
     "execution_count": 72,
     "metadata": {},
     "output_type": "execute_result"
    },
    {
     "data": {
      "image/png": "[encoded data removed]",
      "text/plain": [
       "<Figure size 360x576 with 1 Axes>"
      ]
     },
     "metadata": {
      "needs_background": "light"
     },
     "output_type": "display_data"
    }
   ],
   "source": [
    "plt.figure(figsize=(5,8))\n",
    "sns.barplot(claim_days_mean.values[:15], claim_days_mean.index[:15])\n",
    "plt.title('Avg Claim Days Elapsed By Provider')\n",
    "plt.xlabel('Avg Claim Days Elapsed')\n",
    "plt.ylabel('Provider')"
   ]
  },
  {
   "cell_type": "code",
   "execution_count": 65,
   "metadata": {},
   "outputs": [
    {
     "data": {
      "text/html": [
       "<div>\n",
       "<style scoped>\n",
       "    .dataframe tbody tr th:only-of-type {\n",
       "        vertical-align: middle;\n",
       "    }\n",
       "\n",
       "    .dataframe tbody tr th {\n",
       "        vertical-align: top;\n",
       "    }\n",
       "\n",
       "    .dataframe thead th {\n",
       "        text-align: right;\n",
       "    }\n",
       "</style>\n",
       "<table border=\"1\" class=\"dataframe\">\n",
       "  <thead>\n",
       "    <tr style=\"text-align: right;\">\n",
       "      <th></th>\n",
       "      <th>AttendingPhysician</th>\n",
       "      <th>OperatingPhysician</th>\n",
       "      <th>OtherPhysician</th>\n",
       "    </tr>\n",
       "  </thead>\n",
       "  <tbody>\n",
       "    <tr>\n",
       "      <th>0</th>\n",
       "      <td>PHY390922</td>\n",
       "      <td>NaN</td>\n",
       "      <td>NaN</td>\n",
       "    </tr>\n",
       "    <tr>\n",
       "      <th>1</th>\n",
       "      <td>PHY318495</td>\n",
       "      <td>PHY318495</td>\n",
       "      <td>NaN</td>\n",
       "    </tr>\n",
       "    <tr>\n",
       "      <th>2</th>\n",
       "      <td>PHY372395</td>\n",
       "      <td>NaN</td>\n",
       "      <td>PHY324689</td>\n",
       "    </tr>\n",
       "    <tr>\n",
       "      <th>3</th>\n",
       "      <td>PHY369659</td>\n",
       "      <td>PHY392961</td>\n",
       "      <td>PHY349768</td>\n",
       "    </tr>\n",
       "    <tr>\n",
       "      <th>4</th>\n",
       "      <td>PHY379376</td>\n",
       "      <td>PHY398258</td>\n",
       "      <td>NaN</td>\n",
       "    </tr>\n",
       "    <tr>\n",
       "      <th>5</th>\n",
       "      <td>PHY402711</td>\n",
       "      <td>PHY402711</td>\n",
       "      <td>PHY402711</td>\n",
       "    </tr>\n",
       "    <tr>\n",
       "      <th>6</th>\n",
       "      <td>PHY412314</td>\n",
       "      <td>PHY347494</td>\n",
       "      <td>NaN</td>\n",
       "    </tr>\n",
       "    <tr>\n",
       "      <th>7</th>\n",
       "      <td>PHY346286</td>\n",
       "      <td>PHY405514</td>\n",
       "      <td>NaN</td>\n",
       "    </tr>\n",
       "    <tr>\n",
       "      <th>8</th>\n",
       "      <td>PHY385030</td>\n",
       "      <td>NaN</td>\n",
       "      <td>NaN</td>\n",
       "    </tr>\n",
       "    <tr>\n",
       "      <th>9</th>\n",
       "      <td>PHY355604</td>\n",
       "      <td>PHY415867</td>\n",
       "      <td>NaN</td>\n",
       "    </tr>\n",
       "    <tr>\n",
       "      <th>10</th>\n",
       "      <td>PHY397979</td>\n",
       "      <td>PHY418257</td>\n",
       "      <td>NaN</td>\n",
       "    </tr>\n",
       "    <tr>\n",
       "      <th>11</th>\n",
       "      <td>PHY329774</td>\n",
       "      <td>NaN</td>\n",
       "      <td>NaN</td>\n",
       "    </tr>\n",
       "    <tr>\n",
       "      <th>12</th>\n",
       "      <td>PHY363584</td>\n",
       "      <td>PHY364336</td>\n",
       "      <td>NaN</td>\n",
       "    </tr>\n",
       "    <tr>\n",
       "      <th>13</th>\n",
       "      <td>PHY382905</td>\n",
       "      <td>NaN</td>\n",
       "      <td>NaN</td>\n",
       "    </tr>\n",
       "    <tr>\n",
       "      <th>14</th>\n",
       "      <td>PHY432797</td>\n",
       "      <td>PHY432797</td>\n",
       "      <td>NaN</td>\n",
       "    </tr>\n",
       "  </tbody>\n",
       "</table>\n",
       "</div>"
      ],
      "text/plain": [
       "   AttendingPhysician OperatingPhysician OtherPhysician\n",
       "0           PHY390922                NaN            NaN\n",
       "1           PHY318495          PHY318495            NaN\n",
       "2           PHY372395                NaN      PHY324689\n",
       "3           PHY369659          PHY392961      PHY349768\n",
       "4           PHY379376          PHY398258            NaN\n",
       "5           PHY402711          PHY402711      PHY402711\n",
       "6           PHY412314          PHY347494            NaN\n",
       "7           PHY346286          PHY405514            NaN\n",
       "8           PHY385030                NaN            NaN\n",
       "9           PHY355604          PHY415867            NaN\n",
       "10          PHY397979          PHY418257            NaN\n",
       "11          PHY329774                NaN            NaN\n",
       "12          PHY363584          PHY364336            NaN\n",
       "13          PHY382905                NaN            NaN\n",
       "14          PHY432797          PHY432797            NaN"
      ]
     },
     "execution_count": 65,
     "metadata": {},
     "output_type": "execute_result"
    }
   ],
   "source": [
    "tr_in[['AttendingPhysician', 'OperatingPhysician',\n",
    "       'OtherPhysician']].head(15)"
   ]
  },
  {
   "cell_type": "code",
   "execution_count": 112,
   "metadata": {},
   "outputs": [],
   "source": [
    "phys = tr_in[['AttendingPhysician', 'OperatingPhysician',\n",
    "       'OtherPhysician']]"
   ]
  },
  {
   "cell_type": "code",
   "execution_count": 116,
   "metadata": {},
   "outputs": [
    {
     "data": {
      "text/plain": [
       "(40474, 3)"
      ]
     },
     "execution_count": 116,
     "metadata": {},
     "output_type": "execute_result"
    }
   ],
   "source": [
    "phys.shape"
   ]
  },
  {
   "cell_type": "code",
   "execution_count": 114,
   "metadata": {},
   "outputs": [
    {
     "data": {
      "text/plain": [
       "AttendingPhysician      112\n",
       "OperatingPhysician    16644\n",
       "OtherPhysician        35784\n",
       "dtype: int64"
      ]
     },
     "execution_count": 114,
     "metadata": {},
     "output_type": "execute_result"
    }
   ],
   "source": [
    "phys.isna().sum()"
   ]
  },
  {
   "cell_type": "code",
   "execution_count": 134,
   "metadata": {},
   "outputs": [
    {
     "data": {
      "text/plain": [
       "AttendingPhysician     0.276721\n",
       "OperatingPhysician    41.122696\n",
       "OtherPhysician        88.412314\n",
       "dtype: float64"
      ]
     },
     "execution_count": 134,
     "metadata": {},
     "output_type": "execute_result"
    }
   ],
   "source": [
    "#percentage of null values\n",
    "phys.isna().sum()*100/len(phys)"
   ]
  },
  {
   "cell_type": "code",
   "execution_count": 73,
   "metadata": {},
   "outputs": [
    {
     "data": {
      "text/plain": [
       "31289"
      ]
     },
     "execution_count": 73,
     "metadata": {},
     "output_type": "execute_result"
    }
   ],
   "source": [
    "len(tr_in.BeneID.unique())"
   ]
  },
  {
   "cell_type": "code",
   "execution_count": null,
   "metadata": {},
   "outputs": [],
   "source": []
  },
  {
   "cell_type": "code",
   "execution_count": 26,
   "metadata": {
    "scrolled": true
   },
   "outputs": [
    {
     "data": {
      "text/html": [
       "<div>\n",
       "<style scoped>\n",
       "    .dataframe tbody tr th:only-of-type {\n",
       "        vertical-align: middle;\n",
       "    }\n",
       "\n",
       "    .dataframe tbody tr th {\n",
       "        vertical-align: top;\n",
       "    }\n",
       "\n",
       "    .dataframe thead th {\n",
       "        text-align: right;\n",
       "    }\n",
       "</style>\n",
       "<table border=\"1\" class=\"dataframe\">\n",
       "  <thead>\n",
       "    <tr style=\"text-align: right;\">\n",
       "      <th></th>\n",
       "      <th>BeneID</th>\n",
       "      <th>ClaimID</th>\n",
       "      <th>Provider</th>\n",
       "    </tr>\n",
       "  </thead>\n",
       "  <tbody>\n",
       "    <tr>\n",
       "      <th>0</th>\n",
       "      <td>BENE11001</td>\n",
       "      <td>CLM46614</td>\n",
       "      <td>PRV55912</td>\n",
       "    </tr>\n",
       "    <tr>\n",
       "      <th>1</th>\n",
       "      <td>BENE11001</td>\n",
       "      <td>CLM66048</td>\n",
       "      <td>PRV55907</td>\n",
       "    </tr>\n",
       "    <tr>\n",
       "      <th>2</th>\n",
       "      <td>BENE11001</td>\n",
       "      <td>CLM68358</td>\n",
       "      <td>PRV56046</td>\n",
       "    </tr>\n",
       "    <tr>\n",
       "      <th>3</th>\n",
       "      <td>BENE11011</td>\n",
       "      <td>CLM38412</td>\n",
       "      <td>PRV52405</td>\n",
       "    </tr>\n",
       "    <tr>\n",
       "      <th>4</th>\n",
       "      <td>BENE11014</td>\n",
       "      <td>CLM63689</td>\n",
       "      <td>PRV56614</td>\n",
       "    </tr>\n",
       "    <tr>\n",
       "      <th>5</th>\n",
       "      <td>BENE11017</td>\n",
       "      <td>CLM70950</td>\n",
       "      <td>PRV54986</td>\n",
       "    </tr>\n",
       "    <tr>\n",
       "      <th>6</th>\n",
       "      <td>BENE11018</td>\n",
       "      <td>CLM32075</td>\n",
       "      <td>PRV54090</td>\n",
       "    </tr>\n",
       "    <tr>\n",
       "      <th>7</th>\n",
       "      <td>BENE11028</td>\n",
       "      <td>CLM62376</td>\n",
       "      <td>PRV51148</td>\n",
       "    </tr>\n",
       "    <tr>\n",
       "      <th>8</th>\n",
       "      <td>BENE11031</td>\n",
       "      <td>CLM62784</td>\n",
       "      <td>PRV55839</td>\n",
       "    </tr>\n",
       "    <tr>\n",
       "      <th>9</th>\n",
       "      <td>BENE11034</td>\n",
       "      <td>CLM31519</td>\n",
       "      <td>PRV55215</td>\n",
       "    </tr>\n",
       "    <tr>\n",
       "      <th>10</th>\n",
       "      <td>BENE11034</td>\n",
       "      <td>CLM57949</td>\n",
       "      <td>PRV55193</td>\n",
       "    </tr>\n",
       "    <tr>\n",
       "      <th>11</th>\n",
       "      <td>BENE11036</td>\n",
       "      <td>CLM70083</td>\n",
       "      <td>PRV51145</td>\n",
       "    </tr>\n",
       "    <tr>\n",
       "      <th>12</th>\n",
       "      <td>BENE11037</td>\n",
       "      <td>CLM65412</td>\n",
       "      <td>PRV55846</td>\n",
       "    </tr>\n",
       "    <tr>\n",
       "      <th>13</th>\n",
       "      <td>BENE11041</td>\n",
       "      <td>CLM54944</td>\n",
       "      <td>PRV52283</td>\n",
       "    </tr>\n",
       "    <tr>\n",
       "      <th>14</th>\n",
       "      <td>BENE11041</td>\n",
       "      <td>CLM78682</td>\n",
       "      <td>PRV52283</td>\n",
       "    </tr>\n",
       "    <tr>\n",
       "      <th>15</th>\n",
       "      <td>BENE11045</td>\n",
       "      <td>CLM57153</td>\n",
       "      <td>PRV56588</td>\n",
       "    </tr>\n",
       "    <tr>\n",
       "      <th>16</th>\n",
       "      <td>BENE11046</td>\n",
       "      <td>CLM34469</td>\n",
       "      <td>PRV56118</td>\n",
       "    </tr>\n",
       "    <tr>\n",
       "      <th>17</th>\n",
       "      <td>BENE11054</td>\n",
       "      <td>CLM54477</td>\n",
       "      <td>PRV57191</td>\n",
       "    </tr>\n",
       "    <tr>\n",
       "      <th>18</th>\n",
       "      <td>BENE11055</td>\n",
       "      <td>CLM57077</td>\n",
       "      <td>PRV54675</td>\n",
       "    </tr>\n",
       "    <tr>\n",
       "      <th>19</th>\n",
       "      <td>BENE11055</td>\n",
       "      <td>CLM61587</td>\n",
       "      <td>PRV54676</td>\n",
       "    </tr>\n",
       "    <tr>\n",
       "      <th>20</th>\n",
       "      <td>BENE11057</td>\n",
       "      <td>CLM36789</td>\n",
       "      <td>PRV51393</td>\n",
       "    </tr>\n",
       "    <tr>\n",
       "      <th>21</th>\n",
       "      <td>BENE11057</td>\n",
       "      <td>CLM38115</td>\n",
       "      <td>PRV51342</td>\n",
       "    </tr>\n",
       "    <tr>\n",
       "      <th>22</th>\n",
       "      <td>BENE11057</td>\n",
       "      <td>CLM41414</td>\n",
       "      <td>PRV55834</td>\n",
       "    </tr>\n",
       "    <tr>\n",
       "      <th>23</th>\n",
       "      <td>BENE11065</td>\n",
       "      <td>CLM60246</td>\n",
       "      <td>PRV51578</td>\n",
       "    </tr>\n",
       "    <tr>\n",
       "      <th>24</th>\n",
       "      <td>BENE11066</td>\n",
       "      <td>CLM75192</td>\n",
       "      <td>PRV53937</td>\n",
       "    </tr>\n",
       "    <tr>\n",
       "      <th>25</th>\n",
       "      <td>BENE11067</td>\n",
       "      <td>CLM37565</td>\n",
       "      <td>PRV51710</td>\n",
       "    </tr>\n",
       "    <tr>\n",
       "      <th>26</th>\n",
       "      <td>BENE11069</td>\n",
       "      <td>CLM62447</td>\n",
       "      <td>PRV53135</td>\n",
       "    </tr>\n",
       "    <tr>\n",
       "      <th>27</th>\n",
       "      <td>BENE11069</td>\n",
       "      <td>CLM80966</td>\n",
       "      <td>PRV53135</td>\n",
       "    </tr>\n",
       "    <tr>\n",
       "      <th>28</th>\n",
       "      <td>BENE11071</td>\n",
       "      <td>CLM48802</td>\n",
       "      <td>PRV55023</td>\n",
       "    </tr>\n",
       "    <tr>\n",
       "      <th>29</th>\n",
       "      <td>BENE11078</td>\n",
       "      <td>CLM60118</td>\n",
       "      <td>PRV56490</td>\n",
       "    </tr>\n",
       "    <tr>\n",
       "      <th>...</th>\n",
       "      <td>...</td>\n",
       "      <td>...</td>\n",
       "      <td>...</td>\n",
       "    </tr>\n",
       "    <tr>\n",
       "      <th>40444</th>\n",
       "      <td>BENE159066</td>\n",
       "      <td>CLM44536</td>\n",
       "      <td>PRV57635</td>\n",
       "    </tr>\n",
       "    <tr>\n",
       "      <th>40445</th>\n",
       "      <td>BENE159069</td>\n",
       "      <td>CLM65411</td>\n",
       "      <td>PRV56588</td>\n",
       "    </tr>\n",
       "    <tr>\n",
       "      <th>40446</th>\n",
       "      <td>BENE159071</td>\n",
       "      <td>CLM38411</td>\n",
       "      <td>PRV54778</td>\n",
       "    </tr>\n",
       "    <tr>\n",
       "      <th>40447</th>\n",
       "      <td>BENE159079</td>\n",
       "      <td>CLM40563</td>\n",
       "      <td>PRV52574</td>\n",
       "    </tr>\n",
       "    <tr>\n",
       "      <th>40448</th>\n",
       "      <td>BENE159079</td>\n",
       "      <td>CLM59199</td>\n",
       "      <td>PRV52574</td>\n",
       "    </tr>\n",
       "    <tr>\n",
       "      <th>40449</th>\n",
       "      <td>BENE159079</td>\n",
       "      <td>CLM72780</td>\n",
       "      <td>PRV52574</td>\n",
       "    </tr>\n",
       "    <tr>\n",
       "      <th>40450</th>\n",
       "      <td>BENE159090</td>\n",
       "      <td>CLM37085</td>\n",
       "      <td>PRV52307</td>\n",
       "    </tr>\n",
       "    <tr>\n",
       "      <th>40451</th>\n",
       "      <td>BENE159103</td>\n",
       "      <td>CLM58155</td>\n",
       "      <td>PRV53923</td>\n",
       "    </tr>\n",
       "    <tr>\n",
       "      <th>40452</th>\n",
       "      <td>BENE159107</td>\n",
       "      <td>CLM48437</td>\n",
       "      <td>PRV57502</td>\n",
       "    </tr>\n",
       "    <tr>\n",
       "      <th>40453</th>\n",
       "      <td>BENE159107</td>\n",
       "      <td>CLM60472</td>\n",
       "      <td>PRV57502</td>\n",
       "    </tr>\n",
       "    <tr>\n",
       "      <th>40454</th>\n",
       "      <td>BENE159112</td>\n",
       "      <td>CLM31927</td>\n",
       "      <td>PRV57295</td>\n",
       "    </tr>\n",
       "    <tr>\n",
       "      <th>40455</th>\n",
       "      <td>BENE159112</td>\n",
       "      <td>CLM36164</td>\n",
       "      <td>PRV55215</td>\n",
       "    </tr>\n",
       "    <tr>\n",
       "      <th>40456</th>\n",
       "      <td>BENE159113</td>\n",
       "      <td>CLM71333</td>\n",
       "      <td>PRV55018</td>\n",
       "    </tr>\n",
       "    <tr>\n",
       "      <th>40457</th>\n",
       "      <td>BENE159113</td>\n",
       "      <td>CLM74628</td>\n",
       "      <td>PRV54986</td>\n",
       "    </tr>\n",
       "    <tr>\n",
       "      <th>40458</th>\n",
       "      <td>BENE159125</td>\n",
       "      <td>CLM40802</td>\n",
       "      <td>PRV51609</td>\n",
       "    </tr>\n",
       "    <tr>\n",
       "      <th>40459</th>\n",
       "      <td>BENE159126</td>\n",
       "      <td>CLM66477</td>\n",
       "      <td>PRV52876</td>\n",
       "    </tr>\n",
       "    <tr>\n",
       "      <th>40460</th>\n",
       "      <td>BENE159127</td>\n",
       "      <td>CLM38472</td>\n",
       "      <td>PRV57321</td>\n",
       "    </tr>\n",
       "    <tr>\n",
       "      <th>40461</th>\n",
       "      <td>BENE159129</td>\n",
       "      <td>CLM36549</td>\n",
       "      <td>PRV55667</td>\n",
       "    </tr>\n",
       "    <tr>\n",
       "      <th>40462</th>\n",
       "      <td>BENE159141</td>\n",
       "      <td>CLM47186</td>\n",
       "      <td>PRV51518</td>\n",
       "    </tr>\n",
       "    <tr>\n",
       "      <th>40463</th>\n",
       "      <td>BENE159143</td>\n",
       "      <td>CLM40093</td>\n",
       "      <td>PRV55048</td>\n",
       "    </tr>\n",
       "    <tr>\n",
       "      <th>40464</th>\n",
       "      <td>BENE159151</td>\n",
       "      <td>CLM73572</td>\n",
       "      <td>PRV51038</td>\n",
       "    </tr>\n",
       "    <tr>\n",
       "      <th>40465</th>\n",
       "      <td>BENE159160</td>\n",
       "      <td>CLM40874</td>\n",
       "      <td>PRV51040</td>\n",
       "    </tr>\n",
       "    <tr>\n",
       "      <th>40466</th>\n",
       "      <td>BENE159166</td>\n",
       "      <td>CLM38690</td>\n",
       "      <td>PRV51440</td>\n",
       "    </tr>\n",
       "    <tr>\n",
       "      <th>40467</th>\n",
       "      <td>BENE159166</td>\n",
       "      <td>CLM38985</td>\n",
       "      <td>PRV51812</td>\n",
       "    </tr>\n",
       "    <tr>\n",
       "      <th>40468</th>\n",
       "      <td>BENE159167</td>\n",
       "      <td>CLM35741</td>\n",
       "      <td>PRV53671</td>\n",
       "    </tr>\n",
       "    <tr>\n",
       "      <th>40469</th>\n",
       "      <td>BENE159167</td>\n",
       "      <td>CLM69886</td>\n",
       "      <td>PRV53671</td>\n",
       "    </tr>\n",
       "    <tr>\n",
       "      <th>40470</th>\n",
       "      <td>BENE159175</td>\n",
       "      <td>CLM74504</td>\n",
       "      <td>PRV54981</td>\n",
       "    </tr>\n",
       "    <tr>\n",
       "      <th>40471</th>\n",
       "      <td>BENE159177</td>\n",
       "      <td>CLM76485</td>\n",
       "      <td>PRV56588</td>\n",
       "    </tr>\n",
       "    <tr>\n",
       "      <th>40472</th>\n",
       "      <td>BENE159177</td>\n",
       "      <td>CLM79949</td>\n",
       "      <td>PRV56575</td>\n",
       "    </tr>\n",
       "    <tr>\n",
       "      <th>40473</th>\n",
       "      <td>BENE159188</td>\n",
       "      <td>CLM69948</td>\n",
       "      <td>PRV54765</td>\n",
       "    </tr>\n",
       "  </tbody>\n",
       "</table>\n",
       "<p>40474 rows × 3 columns</p>\n",
       "</div>"
      ],
      "text/plain": [
       "           BeneID   ClaimID  Provider\n",
       "0       BENE11001  CLM46614  PRV55912\n",
       "1       BENE11001  CLM66048  PRV55907\n",
       "2       BENE11001  CLM68358  PRV56046\n",
       "3       BENE11011  CLM38412  PRV52405\n",
       "4       BENE11014  CLM63689  PRV56614\n",
       "5       BENE11017  CLM70950  PRV54986\n",
       "6       BENE11018  CLM32075  PRV54090\n",
       "7       BENE11028  CLM62376  PRV51148\n",
       "8       BENE11031  CLM62784  PRV55839\n",
       "9       BENE11034  CLM31519  PRV55215\n",
       "10      BENE11034  CLM57949  PRV55193\n",
       "11      BENE11036  CLM70083  PRV51145\n",
       "12      BENE11037  CLM65412  PRV55846\n",
       "13      BENE11041  CLM54944  PRV52283\n",
       "14      BENE11041  CLM78682  PRV52283\n",
       "15      BENE11045  CLM57153  PRV56588\n",
       "16      BENE11046  CLM34469  PRV56118\n",
       "17      BENE11054  CLM54477  PRV57191\n",
       "18      BENE11055  CLM57077  PRV54675\n",
       "19      BENE11055  CLM61587  PRV54676\n",
       "20      BENE11057  CLM36789  PRV51393\n",
       "21      BENE11057  CLM38115  PRV51342\n",
       "22      BENE11057  CLM41414  PRV55834\n",
       "23      BENE11065  CLM60246  PRV51578\n",
       "24      BENE11066  CLM75192  PRV53937\n",
       "25      BENE11067  CLM37565  PRV51710\n",
       "26      BENE11069  CLM62447  PRV53135\n",
       "27      BENE11069  CLM80966  PRV53135\n",
       "28      BENE11071  CLM48802  PRV55023\n",
       "29      BENE11078  CLM60118  PRV56490\n",
       "...           ...       ...       ...\n",
       "40444  BENE159066  CLM44536  PRV57635\n",
       "40445  BENE159069  CLM65411  PRV56588\n",
       "40446  BENE159071  CLM38411  PRV54778\n",
       "40447  BENE159079  CLM40563  PRV52574\n",
       "40448  BENE159079  CLM59199  PRV52574\n",
       "40449  BENE159079  CLM72780  PRV52574\n",
       "40450  BENE159090  CLM37085  PRV52307\n",
       "40451  BENE159103  CLM58155  PRV53923\n",
       "40452  BENE159107  CLM48437  PRV57502\n",
       "40453  BENE159107  CLM60472  PRV57502\n",
       "40454  BENE159112  CLM31927  PRV57295\n",
       "40455  BENE159112  CLM36164  PRV55215\n",
       "40456  BENE159113  CLM71333  PRV55018\n",
       "40457  BENE159113  CLM74628  PRV54986\n",
       "40458  BENE159125  CLM40802  PRV51609\n",
       "40459  BENE159126  CLM66477  PRV52876\n",
       "40460  BENE159127  CLM38472  PRV57321\n",
       "40461  BENE159129  CLM36549  PRV55667\n",
       "40462  BENE159141  CLM47186  PRV51518\n",
       "40463  BENE159143  CLM40093  PRV55048\n",
       "40464  BENE159151  CLM73572  PRV51038\n",
       "40465  BENE159160  CLM40874  PRV51040\n",
       "40466  BENE159166  CLM38690  PRV51440\n",
       "40467  BENE159166  CLM38985  PRV51812\n",
       "40468  BENE159167  CLM35741  PRV53671\n",
       "40469  BENE159167  CLM69886  PRV53671\n",
       "40470  BENE159175  CLM74504  PRV54981\n",
       "40471  BENE159177  CLM76485  PRV56588\n",
       "40472  BENE159177  CLM79949  PRV56575\n",
       "40473  BENE159188  CLM69948  PRV54765\n",
       "\n",
       "[40474 rows x 3 columns]"
      ]
     },
     "execution_count": 26,
     "metadata": {},
     "output_type": "execute_result"
    }
   ],
   "source": [
    "tr_in[[\"BeneID\", \"ClaimID\", \"Provider\"]]"
   ]
  },
  {
   "cell_type": "code",
   "execution_count": null,
   "metadata": {},
   "outputs": [],
   "source": []
  },
  {
   "cell_type": "code",
   "execution_count": 78,
   "metadata": {
    "scrolled": true
   },
   "outputs": [
    {
     "data": {
      "text/html": [
       "<div>\n",
       "<style scoped>\n",
       "    .dataframe tbody tr th:only-of-type {\n",
       "        vertical-align: middle;\n",
       "    }\n",
       "\n",
       "    .dataframe tbody tr th {\n",
       "        vertical-align: top;\n",
       "    }\n",
       "\n",
       "    .dataframe thead th {\n",
       "        text-align: right;\n",
       "    }\n",
       "</style>\n",
       "<table border=\"1\" class=\"dataframe\">\n",
       "  <thead>\n",
       "    <tr style=\"text-align: right;\">\n",
       "      <th></th>\n",
       "      <th>ClmDiagnosisCode_1</th>\n",
       "      <th>ClmDiagnosisCode_2</th>\n",
       "      <th>ClmDiagnosisCode_3</th>\n",
       "      <th>ClmDiagnosisCode_4</th>\n",
       "      <th>ClmDiagnosisCode_5</th>\n",
       "      <th>ClmDiagnosisCode_6</th>\n",
       "      <th>ClmDiagnosisCode_7</th>\n",
       "      <th>ClmDiagnosisCode_8</th>\n",
       "      <th>ClmDiagnosisCode_9</th>\n",
       "      <th>ClmDiagnosisCode_10</th>\n",
       "    </tr>\n",
       "  </thead>\n",
       "  <tbody>\n",
       "    <tr>\n",
       "      <th>0</th>\n",
       "      <td>1970</td>\n",
       "      <td>4019</td>\n",
       "      <td>5853</td>\n",
       "      <td>7843</td>\n",
       "      <td>2768</td>\n",
       "      <td>71590</td>\n",
       "      <td>2724</td>\n",
       "      <td>19889</td>\n",
       "      <td>5849</td>\n",
       "      <td>NaN</td>\n",
       "    </tr>\n",
       "    <tr>\n",
       "      <th>1</th>\n",
       "      <td>6186</td>\n",
       "      <td>2948</td>\n",
       "      <td>56400</td>\n",
       "      <td>NaN</td>\n",
       "      <td>NaN</td>\n",
       "      <td>NaN</td>\n",
       "      <td>NaN</td>\n",
       "      <td>NaN</td>\n",
       "      <td>NaN</td>\n",
       "      <td>NaN</td>\n",
       "    </tr>\n",
       "    <tr>\n",
       "      <th>2</th>\n",
       "      <td>29623</td>\n",
       "      <td>30390</td>\n",
       "      <td>71690</td>\n",
       "      <td>34590</td>\n",
       "      <td>V1581</td>\n",
       "      <td>32723</td>\n",
       "      <td>NaN</td>\n",
       "      <td>NaN</td>\n",
       "      <td>NaN</td>\n",
       "      <td>NaN</td>\n",
       "    </tr>\n",
       "    <tr>\n",
       "      <th>3</th>\n",
       "      <td>43491</td>\n",
       "      <td>2762</td>\n",
       "      <td>7843</td>\n",
       "      <td>32723</td>\n",
       "      <td>V1041</td>\n",
       "      <td>4254</td>\n",
       "      <td>25062</td>\n",
       "      <td>40390</td>\n",
       "      <td>4019</td>\n",
       "      <td>NaN</td>\n",
       "    </tr>\n",
       "    <tr>\n",
       "      <th>4</th>\n",
       "      <td>042</td>\n",
       "      <td>3051</td>\n",
       "      <td>34400</td>\n",
       "      <td>5856</td>\n",
       "      <td>42732</td>\n",
       "      <td>486</td>\n",
       "      <td>5119</td>\n",
       "      <td>29620</td>\n",
       "      <td>20300</td>\n",
       "      <td>NaN</td>\n",
       "    </tr>\n",
       "    <tr>\n",
       "      <th>5</th>\n",
       "      <td>1745</td>\n",
       "      <td>V4571</td>\n",
       "      <td>78702</td>\n",
       "      <td>28521</td>\n",
       "      <td>7019</td>\n",
       "      <td>1963</td>\n",
       "      <td>2948</td>\n",
       "      <td>25000</td>\n",
       "      <td>25002</td>\n",
       "      <td>NaN</td>\n",
       "    </tr>\n",
       "    <tr>\n",
       "      <th>6</th>\n",
       "      <td>1536</td>\n",
       "      <td>73300</td>\n",
       "      <td>7230</td>\n",
       "      <td>3659</td>\n",
       "      <td>2859</td>\n",
       "      <td>4019</td>\n",
       "      <td>2948</td>\n",
       "      <td>2809</td>\n",
       "      <td>56210</td>\n",
       "      <td>NaN</td>\n",
       "    </tr>\n",
       "    <tr>\n",
       "      <th>7</th>\n",
       "      <td>56212</td>\n",
       "      <td>25000</td>\n",
       "      <td>30000</td>\n",
       "      <td>73300</td>\n",
       "      <td>2766</td>\n",
       "      <td>53081</td>\n",
       "      <td>2851</td>\n",
       "      <td>4439</td>\n",
       "      <td>41401</td>\n",
       "      <td>NaN</td>\n",
       "    </tr>\n",
       "    <tr>\n",
       "      <th>8</th>\n",
       "      <td>42823</td>\n",
       "      <td>4280</td>\n",
       "      <td>6822</td>\n",
       "      <td>40390</td>\n",
       "      <td>43811</td>\n",
       "      <td>78322</td>\n",
       "      <td>NaN</td>\n",
       "      <td>NaN</td>\n",
       "      <td>NaN</td>\n",
       "      <td>NaN</td>\n",
       "    </tr>\n",
       "    <tr>\n",
       "      <th>9</th>\n",
       "      <td>41041</td>\n",
       "      <td>3669</td>\n",
       "      <td>V851</td>\n",
       "      <td>25062</td>\n",
       "      <td>V074</td>\n",
       "      <td>2766</td>\n",
       "      <td>4019</td>\n",
       "      <td>4111</td>\n",
       "      <td>4589</td>\n",
       "      <td>NaN</td>\n",
       "    </tr>\n",
       "    <tr>\n",
       "      <th>10</th>\n",
       "      <td>03842</td>\n",
       "      <td>25541</td>\n",
       "      <td>78552</td>\n",
       "      <td>2762</td>\n",
       "      <td>5849</td>\n",
       "      <td>5990</td>\n",
       "      <td>5601</td>\n",
       "      <td>591</td>\n",
       "      <td>51881</td>\n",
       "      <td>NaN</td>\n",
       "    </tr>\n",
       "    <tr>\n",
       "      <th>11</th>\n",
       "      <td>29623</td>\n",
       "      <td>2875</td>\n",
       "      <td>27651</td>\n",
       "      <td>7245</td>\n",
       "      <td>60000</td>\n",
       "      <td>7220</td>\n",
       "      <td>53081</td>\n",
       "      <td>4019</td>\n",
       "      <td>30523</td>\n",
       "      <td>NaN</td>\n",
       "    </tr>\n",
       "    <tr>\n",
       "      <th>12</th>\n",
       "      <td>43411</td>\n",
       "      <td>27651</td>\n",
       "      <td>2724</td>\n",
       "      <td>36236</td>\n",
       "      <td>4019</td>\n",
       "      <td>71589</td>\n",
       "      <td>42731</td>\n",
       "      <td>43310</td>\n",
       "      <td>NaN</td>\n",
       "      <td>NaN</td>\n",
       "    </tr>\n",
       "    <tr>\n",
       "      <th>13</th>\n",
       "      <td>49121</td>\n",
       "      <td>2752</td>\n",
       "      <td>7812</td>\n",
       "      <td>71690</td>\n",
       "      <td>311</td>\n",
       "      <td>53081</td>\n",
       "      <td>NaN</td>\n",
       "      <td>NaN</td>\n",
       "      <td>NaN</td>\n",
       "      <td>NaN</td>\n",
       "    </tr>\n",
       "    <tr>\n",
       "      <th>14</th>\n",
       "      <td>51881</td>\n",
       "      <td>2859</td>\n",
       "      <td>4659</td>\n",
       "      <td>4241</td>\n",
       "      <td>5184</td>\n",
       "      <td>99811</td>\n",
       "      <td>40391</td>\n",
       "      <td>4275</td>\n",
       "      <td>4239</td>\n",
       "      <td>NaN</td>\n",
       "    </tr>\n",
       "    <tr>\n",
       "      <th>15</th>\n",
       "      <td>82021</td>\n",
       "      <td>E8859</td>\n",
       "      <td>73300</td>\n",
       "      <td>4019</td>\n",
       "      <td>E8844</td>\n",
       "      <td>40390</td>\n",
       "      <td>27651</td>\n",
       "      <td>NaN</td>\n",
       "      <td>NaN</td>\n",
       "      <td>NaN</td>\n",
       "    </tr>\n",
       "    <tr>\n",
       "      <th>16</th>\n",
       "      <td>29590</td>\n",
       "      <td>25000</td>\n",
       "      <td>5990</td>\n",
       "      <td>7823</td>\n",
       "      <td>V1749</td>\n",
       "      <td>4019</td>\n",
       "      <td>2930</td>\n",
       "      <td>71590</td>\n",
       "      <td>V6284</td>\n",
       "      <td>NaN</td>\n",
       "    </tr>\n",
       "    <tr>\n",
       "      <th>17</th>\n",
       "      <td>42731</td>\n",
       "      <td>496</td>\n",
       "      <td>4139</td>\n",
       "      <td>4111</td>\n",
       "      <td>78659</td>\n",
       "      <td>4019</td>\n",
       "      <td>4254</td>\n",
       "      <td>41401</td>\n",
       "      <td>85011</td>\n",
       "      <td>NaN</td>\n",
       "    </tr>\n",
       "    <tr>\n",
       "      <th>18</th>\n",
       "      <td>25081</td>\n",
       "      <td>53550</td>\n",
       "      <td>4149</td>\n",
       "      <td>42832</td>\n",
       "      <td>4148</td>\n",
       "      <td>38611</td>\n",
       "      <td>4660</td>\n",
       "      <td>3572</td>\n",
       "      <td>40390</td>\n",
       "      <td>NaN</td>\n",
       "    </tr>\n",
       "    <tr>\n",
       "      <th>19</th>\n",
       "      <td>00845</td>\n",
       "      <td>28529</td>\n",
       "      <td>41401</td>\n",
       "      <td>42789</td>\n",
       "      <td>5849</td>\n",
       "      <td>V4511</td>\n",
       "      <td>51881</td>\n",
       "      <td>2724</td>\n",
       "      <td>3004</td>\n",
       "      <td>NaN</td>\n",
       "    </tr>\n",
       "    <tr>\n",
       "      <th>20</th>\n",
       "      <td>41519</td>\n",
       "      <td>53081</td>\n",
       "      <td>486</td>\n",
       "      <td>45340</td>\n",
       "      <td>73679</td>\n",
       "      <td>42731</td>\n",
       "      <td>04185</td>\n",
       "      <td>7907</td>\n",
       "      <td>4150</td>\n",
       "      <td>NaN</td>\n",
       "    </tr>\n",
       "    <tr>\n",
       "      <th>21</th>\n",
       "      <td>99591</td>\n",
       "      <td>78552</td>\n",
       "      <td>V4511</td>\n",
       "      <td>2760</td>\n",
       "      <td>27651</td>\n",
       "      <td>486</td>\n",
       "      <td>41071</td>\n",
       "      <td>25000</td>\n",
       "      <td>2859</td>\n",
       "      <td>NaN</td>\n",
       "    </tr>\n",
       "    <tr>\n",
       "      <th>22</th>\n",
       "      <td>41401</td>\n",
       "      <td>4019</td>\n",
       "      <td>3051</td>\n",
       "      <td>V4582</td>\n",
       "      <td>4439</td>\n",
       "      <td>V4501</td>\n",
       "      <td>25000</td>\n",
       "      <td>V1582</td>\n",
       "      <td>4148</td>\n",
       "      <td>NaN</td>\n",
       "    </tr>\n",
       "    <tr>\n",
       "      <th>23</th>\n",
       "      <td>486</td>\n",
       "      <td>42731</td>\n",
       "      <td>2948</td>\n",
       "      <td>73710</td>\n",
       "      <td>412</td>\n",
       "      <td>25000</td>\n",
       "      <td>27651</td>\n",
       "      <td>V4501</td>\n",
       "      <td>49392</td>\n",
       "      <td>NaN</td>\n",
       "    </tr>\n",
       "    <tr>\n",
       "      <th>24</th>\n",
       "      <td>5990</td>\n",
       "      <td>78829</td>\n",
       "      <td>53081</td>\n",
       "      <td>41401</td>\n",
       "      <td>5845</td>\n",
       "      <td>4280</td>\n",
       "      <td>591</td>\n",
       "      <td>V1301</td>\n",
       "      <td>59971</td>\n",
       "      <td>NaN</td>\n",
       "    </tr>\n",
       "    <tr>\n",
       "      <th>25</th>\n",
       "      <td>49121</td>\n",
       "      <td>2724</td>\n",
       "      <td>E9320</td>\n",
       "      <td>2449</td>\n",
       "      <td>41401</td>\n",
       "      <td>V5866</td>\n",
       "      <td>NaN</td>\n",
       "      <td>NaN</td>\n",
       "      <td>NaN</td>\n",
       "      <td>NaN</td>\n",
       "    </tr>\n",
       "    <tr>\n",
       "      <th>26</th>\n",
       "      <td>41071</td>\n",
       "      <td>42769</td>\n",
       "      <td>7802</td>\n",
       "      <td>4019</td>\n",
       "      <td>2449</td>\n",
       "      <td>41401</td>\n",
       "      <td>V4581</td>\n",
       "      <td>42732</td>\n",
       "      <td>41012</td>\n",
       "      <td>NaN</td>\n",
       "    </tr>\n",
       "    <tr>\n",
       "      <th>27</th>\n",
       "      <td>6826</td>\n",
       "      <td>53081</td>\n",
       "      <td>71590</td>\n",
       "      <td>25000</td>\n",
       "      <td>29590</td>\n",
       "      <td>25060</td>\n",
       "      <td>7197</td>\n",
       "      <td>2449</td>\n",
       "      <td>NaN</td>\n",
       "      <td>NaN</td>\n",
       "    </tr>\n",
       "    <tr>\n",
       "      <th>28</th>\n",
       "      <td>49122</td>\n",
       "      <td>4439</td>\n",
       "      <td>20480</td>\n",
       "      <td>72610</td>\n",
       "      <td>V5863</td>\n",
       "      <td>41401</td>\n",
       "      <td>60000</td>\n",
       "      <td>3051</td>\n",
       "      <td>25000</td>\n",
       "      <td>NaN</td>\n",
       "    </tr>\n",
       "    <tr>\n",
       "      <th>29</th>\n",
       "      <td>71536</td>\n",
       "      <td>7140</td>\n",
       "      <td>NaN</td>\n",
       "      <td>NaN</td>\n",
       "      <td>NaN</td>\n",
       "      <td>NaN</td>\n",
       "      <td>NaN</td>\n",
       "      <td>NaN</td>\n",
       "      <td>NaN</td>\n",
       "      <td>NaN</td>\n",
       "    </tr>\n",
       "    <tr>\n",
       "      <th>...</th>\n",
       "      <td>...</td>\n",
       "      <td>...</td>\n",
       "      <td>...</td>\n",
       "      <td>...</td>\n",
       "      <td>...</td>\n",
       "      <td>...</td>\n",
       "      <td>...</td>\n",
       "      <td>...</td>\n",
       "      <td>...</td>\n",
       "      <td>...</td>\n",
       "    </tr>\n",
       "    <tr>\n",
       "      <th>40444</th>\n",
       "      <td>53250</td>\n",
       "      <td>5601</td>\n",
       "      <td>5373</td>\n",
       "      <td>41401</td>\n",
       "      <td>5121</td>\n",
       "      <td>5849</td>\n",
       "      <td>25000</td>\n",
       "      <td>V5862</td>\n",
       "      <td>0389</td>\n",
       "      <td>NaN</td>\n",
       "    </tr>\n",
       "    <tr>\n",
       "      <th>40445</th>\n",
       "      <td>V5789</td>\n",
       "      <td>4251</td>\n",
       "      <td>4387</td>\n",
       "      <td>56400</td>\n",
       "      <td>49122</td>\n",
       "      <td>2639</td>\n",
       "      <td>41401</td>\n",
       "      <td>V5419</td>\n",
       "      <td>25000</td>\n",
       "      <td>NaN</td>\n",
       "    </tr>\n",
       "    <tr>\n",
       "      <th>40446</th>\n",
       "      <td>5198</td>\n",
       "      <td>5119</td>\n",
       "      <td>9092</td>\n",
       "      <td>V4581</td>\n",
       "      <td>4280</td>\n",
       "      <td>4019</td>\n",
       "      <td>5859</td>\n",
       "      <td>496</td>\n",
       "      <td>41401</td>\n",
       "      <td>NaN</td>\n",
       "    </tr>\n",
       "    <tr>\n",
       "      <th>40447</th>\n",
       "      <td>3330</td>\n",
       "      <td>29411</td>\n",
       "      <td>7830</td>\n",
       "      <td>41400</td>\n",
       "      <td>3899</td>\n",
       "      <td>40390</td>\n",
       "      <td>7245</td>\n",
       "      <td>3569</td>\n",
       "      <td>4240</td>\n",
       "      <td>NaN</td>\n",
       "    </tr>\n",
       "    <tr>\n",
       "      <th>40448</th>\n",
       "      <td>42781</td>\n",
       "      <td>2720</td>\n",
       "      <td>4255</td>\n",
       "      <td>29411</td>\n",
       "      <td>4019</td>\n",
       "      <td>2760</td>\n",
       "      <td>7823</td>\n",
       "      <td>2724</td>\n",
       "      <td>41401</td>\n",
       "      <td>NaN</td>\n",
       "    </tr>\n",
       "    <tr>\n",
       "      <th>40449</th>\n",
       "      <td>5849</td>\n",
       "      <td>V551</td>\n",
       "      <td>4280</td>\n",
       "      <td>42731</td>\n",
       "      <td>E8889</td>\n",
       "      <td>2948</td>\n",
       "      <td>99639</td>\n",
       "      <td>29620</td>\n",
       "      <td>25002</td>\n",
       "      <td>NaN</td>\n",
       "    </tr>\n",
       "    <tr>\n",
       "      <th>40450</th>\n",
       "      <td>7823</td>\n",
       "      <td>43310</td>\n",
       "      <td>5990</td>\n",
       "      <td>V433</td>\n",
       "      <td>7242</td>\n",
       "      <td>2948</td>\n",
       "      <td>53081</td>\n",
       "      <td>2749</td>\n",
       "      <td>2724</td>\n",
       "      <td>NaN</td>\n",
       "    </tr>\n",
       "    <tr>\n",
       "      <th>40451</th>\n",
       "      <td>4580</td>\n",
       "      <td>3310</td>\n",
       "      <td>5853</td>\n",
       "      <td>4019</td>\n",
       "      <td>5070</td>\n",
       "      <td>V1271</td>\n",
       "      <td>33182</td>\n",
       "      <td>2720</td>\n",
       "      <td>27651</td>\n",
       "      <td>NaN</td>\n",
       "    </tr>\n",
       "    <tr>\n",
       "      <th>40452</th>\n",
       "      <td>5789</td>\n",
       "      <td>9100</td>\n",
       "      <td>5693</td>\n",
       "      <td>71690</td>\n",
       "      <td>3449</td>\n",
       "      <td>2851</td>\n",
       "      <td>53081</td>\n",
       "      <td>25000</td>\n",
       "      <td>E9356</td>\n",
       "      <td>NaN</td>\n",
       "    </tr>\n",
       "    <tr>\n",
       "      <th>40453</th>\n",
       "      <td>5715</td>\n",
       "      <td>51881</td>\n",
       "      <td>2875</td>\n",
       "      <td>5770</td>\n",
       "      <td>40391</td>\n",
       "      <td>5849</td>\n",
       "      <td>25000</td>\n",
       "      <td>5990</td>\n",
       "      <td>4019</td>\n",
       "      <td>NaN</td>\n",
       "    </tr>\n",
       "    <tr>\n",
       "      <th>40454</th>\n",
       "      <td>4280</td>\n",
       "      <td>4019</td>\n",
       "      <td>2809</td>\n",
       "      <td>41401</td>\n",
       "      <td>V103</td>\n",
       "      <td>V0382</td>\n",
       "      <td>25000</td>\n",
       "      <td>V4581</td>\n",
       "      <td>78659</td>\n",
       "      <td>NaN</td>\n",
       "    </tr>\n",
       "    <tr>\n",
       "      <th>40455</th>\n",
       "      <td>41401</td>\n",
       "      <td>4019</td>\n",
       "      <td>4142</td>\n",
       "      <td>2724</td>\n",
       "      <td>5859</td>\n",
       "      <td>NaN</td>\n",
       "      <td>NaN</td>\n",
       "      <td>NaN</td>\n",
       "      <td>NaN</td>\n",
       "      <td>NaN</td>\n",
       "    </tr>\n",
       "    <tr>\n",
       "      <th>40456</th>\n",
       "      <td>56039</td>\n",
       "      <td>25000</td>\n",
       "      <td>4019</td>\n",
       "      <td>2900</td>\n",
       "      <td>40390</td>\n",
       "      <td>V6549</td>\n",
       "      <td>55321</td>\n",
       "      <td>2724</td>\n",
       "      <td>V5869</td>\n",
       "      <td>V0481</td>\n",
       "    </tr>\n",
       "    <tr>\n",
       "      <th>40457</th>\n",
       "      <td>28800</td>\n",
       "      <td>70901</td>\n",
       "      <td>52801</td>\n",
       "      <td>41401</td>\n",
       "      <td>1628</td>\n",
       "      <td>78791</td>\n",
       "      <td>28489</td>\n",
       "      <td>2859</td>\n",
       "      <td>E9331</td>\n",
       "      <td>2875</td>\n",
       "    </tr>\n",
       "    <tr>\n",
       "      <th>40458</th>\n",
       "      <td>42781</td>\n",
       "      <td>41401</td>\n",
       "      <td>42731</td>\n",
       "      <td>7392</td>\n",
       "      <td>2768</td>\n",
       "      <td>4263</td>\n",
       "      <td>V1508</td>\n",
       "      <td>NaN</td>\n",
       "      <td>NaN</td>\n",
       "      <td>NaN</td>\n",
       "    </tr>\n",
       "    <tr>\n",
       "      <th>40459</th>\n",
       "      <td>7210</td>\n",
       "      <td>7220</td>\n",
       "      <td>3384</td>\n",
       "      <td>2720</td>\n",
       "      <td>4019</td>\n",
       "      <td>NaN</td>\n",
       "      <td>NaN</td>\n",
       "      <td>NaN</td>\n",
       "      <td>NaN</td>\n",
       "      <td>NaN</td>\n",
       "    </tr>\n",
       "    <tr>\n",
       "      <th>40460</th>\n",
       "      <td>51881</td>\n",
       "      <td>486</td>\n",
       "      <td>2762</td>\n",
       "      <td>2859</td>\n",
       "      <td>42731</td>\n",
       "      <td>42732</td>\n",
       "      <td>7944</td>\n",
       "      <td>496</td>\n",
       "      <td>1985</td>\n",
       "      <td>NaN</td>\n",
       "    </tr>\n",
       "    <tr>\n",
       "      <th>40461</th>\n",
       "      <td>0389</td>\n",
       "      <td>2630</td>\n",
       "      <td>5849</td>\n",
       "      <td>28529</td>\n",
       "      <td>2449</td>\n",
       "      <td>99591</td>\n",
       "      <td>56039</td>\n",
       "      <td>99664</td>\n",
       "      <td>25000</td>\n",
       "      <td>NaN</td>\n",
       "    </tr>\n",
       "    <tr>\n",
       "      <th>40462</th>\n",
       "      <td>4280</td>\n",
       "      <td>5990</td>\n",
       "      <td>29281</td>\n",
       "      <td>4263</td>\n",
       "      <td>40390</td>\n",
       "      <td>2859</td>\n",
       "      <td>V4581</td>\n",
       "      <td>5859</td>\n",
       "      <td>4148</td>\n",
       "      <td>NaN</td>\n",
       "    </tr>\n",
       "    <tr>\n",
       "      <th>40463</th>\n",
       "      <td>8082</td>\n",
       "      <td>33829</td>\n",
       "      <td>87342</td>\n",
       "      <td>0414</td>\n",
       "      <td>E8889</td>\n",
       "      <td>NaN</td>\n",
       "      <td>NaN</td>\n",
       "      <td>NaN</td>\n",
       "      <td>NaN</td>\n",
       "      <td>NaN</td>\n",
       "    </tr>\n",
       "    <tr>\n",
       "      <th>40464</th>\n",
       "      <td>41519</td>\n",
       "      <td>40390</td>\n",
       "      <td>V151</td>\n",
       "      <td>496</td>\n",
       "      <td>317</td>\n",
       "      <td>4169</td>\n",
       "      <td>78605</td>\n",
       "      <td>7847</td>\n",
       "      <td>56409</td>\n",
       "      <td>NaN</td>\n",
       "    </tr>\n",
       "    <tr>\n",
       "      <th>40465</th>\n",
       "      <td>7802</td>\n",
       "      <td>4280</td>\n",
       "      <td>42830</td>\n",
       "      <td>73300</td>\n",
       "      <td>27651</td>\n",
       "      <td>2724</td>\n",
       "      <td>V4501</td>\n",
       "      <td>4019</td>\n",
       "      <td>4439</td>\n",
       "      <td>NaN</td>\n",
       "    </tr>\n",
       "    <tr>\n",
       "      <th>40466</th>\n",
       "      <td>4271</td>\n",
       "      <td>53540</td>\n",
       "      <td>2449</td>\n",
       "      <td>42732</td>\n",
       "      <td>4168</td>\n",
       "      <td>V1271</td>\n",
       "      <td>4148</td>\n",
       "      <td>V4582</td>\n",
       "      <td>V4502</td>\n",
       "      <td>NaN</td>\n",
       "    </tr>\n",
       "    <tr>\n",
       "      <th>40467</th>\n",
       "      <td>1629</td>\n",
       "      <td>1985</td>\n",
       "      <td>2841</td>\n",
       "      <td>7907</td>\n",
       "      <td>1983</td>\n",
       "      <td>53081</td>\n",
       "      <td>V4582</td>\n",
       "      <td>25000</td>\n",
       "      <td>32723</td>\n",
       "      <td>2724</td>\n",
       "    </tr>\n",
       "    <tr>\n",
       "      <th>40468</th>\n",
       "      <td>6184</td>\n",
       "      <td>6250</td>\n",
       "      <td>53081</td>\n",
       "      <td>4019</td>\n",
       "      <td>5680</td>\n",
       "      <td>2851</td>\n",
       "      <td>2212</td>\n",
       "      <td>2724</td>\n",
       "      <td>NaN</td>\n",
       "      <td>NaN</td>\n",
       "    </tr>\n",
       "    <tr>\n",
       "      <th>40469</th>\n",
       "      <td>2851</td>\n",
       "      <td>2762</td>\n",
       "      <td>53550</td>\n",
       "      <td>V0254</td>\n",
       "      <td>V1005</td>\n",
       "      <td>5173</td>\n",
       "      <td>79092</td>\n",
       "      <td>70704</td>\n",
       "      <td>2869</td>\n",
       "      <td>4148</td>\n",
       "    </tr>\n",
       "    <tr>\n",
       "      <th>40470</th>\n",
       "      <td>42823</td>\n",
       "      <td>4148</td>\n",
       "      <td>4019</td>\n",
       "      <td>3970</td>\n",
       "      <td>4241</td>\n",
       "      <td>V1042</td>\n",
       "      <td>49122</td>\n",
       "      <td>4254</td>\n",
       "      <td>5990</td>\n",
       "      <td>NaN</td>\n",
       "    </tr>\n",
       "    <tr>\n",
       "      <th>40471</th>\n",
       "      <td>4280</td>\n",
       "      <td>3963</td>\n",
       "      <td>5859</td>\n",
       "      <td>4019</td>\n",
       "      <td>40390</td>\n",
       "      <td>4111</td>\n",
       "      <td>71534</td>\n",
       "      <td>71590</td>\n",
       "      <td>V4502</td>\n",
       "      <td>NaN</td>\n",
       "    </tr>\n",
       "    <tr>\n",
       "      <th>40472</th>\n",
       "      <td>7802</td>\n",
       "      <td>5859</td>\n",
       "      <td>496</td>\n",
       "      <td>2809</td>\n",
       "      <td>V1254</td>\n",
       "      <td>42822</td>\n",
       "      <td>4263</td>\n",
       "      <td>0414</td>\n",
       "      <td>41400</td>\n",
       "      <td>NaN</td>\n",
       "    </tr>\n",
       "    <tr>\n",
       "      <th>40473</th>\n",
       "      <td>1540</td>\n",
       "      <td>27800</td>\n",
       "      <td>6146</td>\n",
       "      <td>2449</td>\n",
       "      <td>42830</td>\n",
       "      <td>412</td>\n",
       "      <td>4019</td>\n",
       "      <td>2800</td>\n",
       "      <td>27801</td>\n",
       "      <td>NaN</td>\n",
       "    </tr>\n",
       "  </tbody>\n",
       "</table>\n",
       "<p>40474 rows × 10 columns</p>\n",
       "</div>"
      ],
      "text/plain": [
       "      ClmDiagnosisCode_1 ClmDiagnosisCode_2 ClmDiagnosisCode_3  \\\n",
       "0                   1970               4019               5853   \n",
       "1                   6186               2948              56400   \n",
       "2                  29623              30390              71690   \n",
       "3                  43491               2762               7843   \n",
       "4                    042               3051              34400   \n",
       "5                   1745              V4571              78702   \n",
       "6                   1536              73300               7230   \n",
       "7                  56212              25000              30000   \n",
       "8                  42823               4280               6822   \n",
       "9                  41041               3669               V851   \n",
       "10                 03842              25541              78552   \n",
       "11                 29623               2875              27651   \n",
       "12                 43411              27651               2724   \n",
       "13                 49121               2752               7812   \n",
       "14                 51881               2859               4659   \n",
       "15                 82021              E8859              73300   \n",
       "16                 29590              25000               5990   \n",
       "17                 42731                496               4139   \n",
       "18                 25081              53550               4149   \n",
       "19                 00845              28529              41401   \n",
       "20                 41519              53081                486   \n",
       "21                 99591              78552              V4511   \n",
       "22                 41401               4019               3051   \n",
       "23                   486              42731               2948   \n",
       "24                  5990              78829              53081   \n",
       "25                 49121               2724              E9320   \n",
       "26                 41071              42769               7802   \n",
       "27                  6826              53081              71590   \n",
       "28                 49122               4439              20480   \n",
       "29                 71536               7140                NaN   \n",
       "...                  ...                ...                ...   \n",
       "40444              53250               5601               5373   \n",
       "40445              V5789               4251               4387   \n",
       "40446               5198               5119               9092   \n",
       "40447               3330              29411               7830   \n",
       "40448              42781               2720               4255   \n",
       "40449               5849               V551               4280   \n",
       "40450               7823              43310               5990   \n",
       "40451               4580               3310               5853   \n",
       "40452               5789               9100               5693   \n",
       "40453               5715              51881               2875   \n",
       "40454               4280               4019               2809   \n",
       "40455              41401               4019               4142   \n",
       "40456              56039              25000               4019   \n",
       "40457              28800              70901              52801   \n",
       "40458              42781              41401              42731   \n",
       "40459               7210               7220               3384   \n",
       "40460              51881                486               2762   \n",
       "40461               0389               2630               5849   \n",
       "40462               4280               5990              29281   \n",
       "40463               8082              33829              87342   \n",
       "40464              41519              40390               V151   \n",
       "40465               7802               4280              42830   \n",
       "40466               4271              53540               2449   \n",
       "40467               1629               1985               2841   \n",
       "40468               6184               6250              53081   \n",
       "40469               2851               2762              53550   \n",
       "40470              42823               4148               4019   \n",
       "40471               4280               3963               5859   \n",
       "40472               7802               5859                496   \n",
       "40473               1540              27800               6146   \n",
       "\n",
       "      ClmDiagnosisCode_4 ClmDiagnosisCode_5 ClmDiagnosisCode_6  \\\n",
       "0                   7843               2768              71590   \n",
       "1                    NaN                NaN                NaN   \n",
       "2                  34590              V1581              32723   \n",
       "3                  32723              V1041               4254   \n",
       "4                   5856              42732                486   \n",
       "5                  28521               7019               1963   \n",
       "6                   3659               2859               4019   \n",
       "7                  73300               2766              53081   \n",
       "8                  40390              43811              78322   \n",
       "9                  25062               V074               2766   \n",
       "10                  2762               5849               5990   \n",
       "11                  7245              60000               7220   \n",
       "12                 36236               4019              71589   \n",
       "13                 71690                311              53081   \n",
       "14                  4241               5184              99811   \n",
       "15                  4019              E8844              40390   \n",
       "16                  7823              V1749               4019   \n",
       "17                  4111              78659               4019   \n",
       "18                 42832               4148              38611   \n",
       "19                 42789               5849              V4511   \n",
       "20                 45340              73679              42731   \n",
       "21                  2760              27651                486   \n",
       "22                 V4582               4439              V4501   \n",
       "23                 73710                412              25000   \n",
       "24                 41401               5845               4280   \n",
       "25                  2449              41401              V5866   \n",
       "26                  4019               2449              41401   \n",
       "27                 25000              29590              25060   \n",
       "28                 72610              V5863              41401   \n",
       "29                   NaN                NaN                NaN   \n",
       "...                  ...                ...                ...   \n",
       "40444              41401               5121               5849   \n",
       "40445              56400              49122               2639   \n",
       "40446              V4581               4280               4019   \n",
       "40447              41400               3899              40390   \n",
       "40448              29411               4019               2760   \n",
       "40449              42731              E8889               2948   \n",
       "40450               V433               7242               2948   \n",
       "40451               4019               5070              V1271   \n",
       "40452              71690               3449               2851   \n",
       "40453               5770              40391               5849   \n",
       "40454              41401               V103              V0382   \n",
       "40455               2724               5859                NaN   \n",
       "40456               2900              40390              V6549   \n",
       "40457              41401               1628              78791   \n",
       "40458               7392               2768               4263   \n",
       "40459               2720               4019                NaN   \n",
       "40460               2859              42731              42732   \n",
       "40461              28529               2449              99591   \n",
       "40462               4263              40390               2859   \n",
       "40463               0414              E8889                NaN   \n",
       "40464                496                317               4169   \n",
       "40465              73300              27651               2724   \n",
       "40466              42732               4168              V1271   \n",
       "40467               7907               1983              53081   \n",
       "40468               4019               5680               2851   \n",
       "40469              V0254              V1005               5173   \n",
       "40470               3970               4241              V1042   \n",
       "40471               4019              40390               4111   \n",
       "40472               2809              V1254              42822   \n",
       "40473               2449              42830                412   \n",
       "\n",
       "      ClmDiagnosisCode_7 ClmDiagnosisCode_8 ClmDiagnosisCode_9  \\\n",
       "0                   2724              19889               5849   \n",
       "1                    NaN                NaN                NaN   \n",
       "2                    NaN                NaN                NaN   \n",
       "3                  25062              40390               4019   \n",
       "4                   5119              29620              20300   \n",
       "5                   2948              25000              25002   \n",
       "6                   2948               2809              56210   \n",
       "7                   2851               4439              41401   \n",
       "8                    NaN                NaN                NaN   \n",
       "9                   4019               4111               4589   \n",
       "10                  5601                591              51881   \n",
       "11                 53081               4019              30523   \n",
       "12                 42731              43310                NaN   \n",
       "13                   NaN                NaN                NaN   \n",
       "14                 40391               4275               4239   \n",
       "15                 27651                NaN                NaN   \n",
       "16                  2930              71590              V6284   \n",
       "17                  4254              41401              85011   \n",
       "18                  4660               3572              40390   \n",
       "19                 51881               2724               3004   \n",
       "20                 04185               7907               4150   \n",
       "21                 41071              25000               2859   \n",
       "22                 25000              V1582               4148   \n",
       "23                 27651              V4501              49392   \n",
       "24                   591              V1301              59971   \n",
       "25                   NaN                NaN                NaN   \n",
       "26                 V4581              42732              41012   \n",
       "27                  7197               2449                NaN   \n",
       "28                 60000               3051              25000   \n",
       "29                   NaN                NaN                NaN   \n",
       "...                  ...                ...                ...   \n",
       "40444              25000              V5862               0389   \n",
       "40445              41401              V5419              25000   \n",
       "40446               5859                496              41401   \n",
       "40447               7245               3569               4240   \n",
       "40448               7823               2724              41401   \n",
       "40449              99639              29620              25002   \n",
       "40450              53081               2749               2724   \n",
       "40451              33182               2720              27651   \n",
       "40452              53081              25000              E9356   \n",
       "40453              25000               5990               4019   \n",
       "40454              25000              V4581              78659   \n",
       "40455                NaN                NaN                NaN   \n",
       "40456              55321               2724              V5869   \n",
       "40457              28489               2859              E9331   \n",
       "40458              V1508                NaN                NaN   \n",
       "40459                NaN                NaN                NaN   \n",
       "40460               7944                496               1985   \n",
       "40461              56039              99664              25000   \n",
       "40462              V4581               5859               4148   \n",
       "40463                NaN                NaN                NaN   \n",
       "40464              78605               7847              56409   \n",
       "40465              V4501               4019               4439   \n",
       "40466               4148              V4582              V4502   \n",
       "40467              V4582              25000              32723   \n",
       "40468               2212               2724                NaN   \n",
       "40469              79092              70704               2869   \n",
       "40470              49122               4254               5990   \n",
       "40471              71534              71590              V4502   \n",
       "40472               4263               0414              41400   \n",
       "40473               4019               2800              27801   \n",
       "\n",
       "      ClmDiagnosisCode_10  \n",
       "0                     NaN  \n",
       "1                     NaN  \n",
       "2                     NaN  \n",
       "3                     NaN  \n",
       "4                     NaN  \n",
       "5                     NaN  \n",
       "6                     NaN  \n",
       "7                     NaN  \n",
       "8                     NaN  \n",
       "9                     NaN  \n",
       "10                    NaN  \n",
       "11                    NaN  \n",
       "12                    NaN  \n",
       "13                    NaN  \n",
       "14                    NaN  \n",
       "15                    NaN  \n",
       "16                    NaN  \n",
       "17                    NaN  \n",
       "18                    NaN  \n",
       "19                    NaN  \n",
       "20                    NaN  \n",
       "21                    NaN  \n",
       "22                    NaN  \n",
       "23                    NaN  \n",
       "24                    NaN  \n",
       "25                    NaN  \n",
       "26                    NaN  \n",
       "27                    NaN  \n",
       "28                    NaN  \n",
       "29                    NaN  \n",
       "...                   ...  \n",
       "40444                 NaN  \n",
       "40445                 NaN  \n",
       "40446                 NaN  \n",
       "40447                 NaN  \n",
       "40448                 NaN  \n",
       "40449                 NaN  \n",
       "40450                 NaN  \n",
       "40451                 NaN  \n",
       "40452                 NaN  \n",
       "40453                 NaN  \n",
       "40454                 NaN  \n",
       "40455                 NaN  \n",
       "40456               V0481  \n",
       "40457                2875  \n",
       "40458                 NaN  \n",
       "40459                 NaN  \n",
       "40460                 NaN  \n",
       "40461                 NaN  \n",
       "40462                 NaN  \n",
       "40463                 NaN  \n",
       "40464                 NaN  \n",
       "40465                 NaN  \n",
       "40466                 NaN  \n",
       "40467                2724  \n",
       "40468                 NaN  \n",
       "40469                4148  \n",
       "40470                 NaN  \n",
       "40471                 NaN  \n",
       "40472                 NaN  \n",
       "40473                 NaN  \n",
       "\n",
       "[40474 rows x 10 columns]"
      ]
     },
     "execution_count": 78,
     "metadata": {},
     "output_type": "execute_result"
    }
   ],
   "source": [
    "tr_in[['ClmDiagnosisCode_1', 'ClmDiagnosisCode_2', 'ClmDiagnosisCode_3',\n",
    "       'ClmDiagnosisCode_4', 'ClmDiagnosisCode_5', 'ClmDiagnosisCode_6',\n",
    "       'ClmDiagnosisCode_7', 'ClmDiagnosisCode_8', 'ClmDiagnosisCode_9',\n",
    "       'ClmDiagnosisCode_10']]"
   ]
  },
  {
   "cell_type": "code",
   "execution_count": 84,
   "metadata": {},
   "outputs": [
    {
     "data": {
      "text/plain": [
       "2254"
      ]
     },
     "execution_count": 84,
     "metadata": {},
     "output_type": "execute_result"
    }
   ],
   "source": [
    "tr_in['ClmDiagnosisCode_1'].nunique()"
   ]
  },
  {
   "cell_type": "code",
   "execution_count": 94,
   "metadata": {},
   "outputs": [
    {
     "data": {
      "text/plain": [
       "40474"
      ]
     },
     "execution_count": 94,
     "metadata": {},
     "output_type": "execute_result"
    }
   ],
   "source": [
    "tr_in['ClmDiagnosisCode_1'].isna().count()"
   ]
  },
  {
   "cell_type": "code",
   "execution_count": 85,
   "metadata": {},
   "outputs": [
    {
     "data": {
      "text/plain": [
       "2439"
      ]
     },
     "execution_count": 85,
     "metadata": {},
     "output_type": "execute_result"
    }
   ],
   "source": [
    "tr_in['ClmDiagnosisCode_2'].nunique()"
   ]
  },
  {
   "cell_type": "code",
   "execution_count": 86,
   "metadata": {},
   "outputs": [
    {
     "data": {
      "text/plain": [
       "2427"
      ]
     },
     "execution_count": 86,
     "metadata": {},
     "output_type": "execute_result"
    }
   ],
   "source": [
    "tr_in['ClmDiagnosisCode_3'].nunique()"
   ]
  },
  {
   "cell_type": "markdown",
   "metadata": {},
   "source": [
    "#### Multiple claims"
   ]
  },
  {
   "cell_type": "code",
   "execution_count": 75,
   "metadata": {
    "scrolled": false
   },
   "outputs": [
    {
     "data": {
      "text/plain": [
       "BeneID\n",
       "BENE134170    8\n",
       "BENE64791     7\n",
       "BENE117116    7\n",
       "BENE121796    7\n",
       "BENE119457    7\n",
       "BENE62091     7\n",
       "BENE56800     6\n",
       "BENE87221     6\n",
       "BENE126421    6\n",
       "BENE117983    6\n",
       "BENE31905     6\n",
       "BENE28270     6\n",
       "BENE124069    6\n",
       "BENE49263     6\n",
       "BENE130582    6\n",
       "Name: ClaimID, dtype: int64"
      ]
     },
     "execution_count": 75,
     "metadata": {},
     "output_type": "execute_result"
    }
   ],
   "source": [
    "multc = tr_in.groupby('BeneID')['ClaimID'].nunique().sort_values(ascending=False)\n",
    "multc.head(15)"
   ]
  },
  {
   "cell_type": "code",
   "execution_count": 77,
   "metadata": {
    "scrolled": true
   },
   "outputs": [
    {
     "data": {
      "text/plain": [
       "31289"
      ]
     },
     "execution_count": 77,
     "metadata": {},
     "output_type": "execute_result"
    }
   ],
   "source": [
    "multc"
   ]
  },
  {
   "cell_type": "code",
   "execution_count": 166,
   "metadata": {},
   "outputs": [
    {
     "data": {
      "text/plain": [
       "Text(0, 0.5, 'BeneID')"
      ]
     },
     "execution_count": 166,
     "metadata": {},
     "output_type": "execute_result"
    },
    {
     "data": {
      "image/png": "[encoded data removed]",
      "text/plain": [
       "<Figure size 360x576 with 1 Axes>"
      ]
     },
     "metadata": {
      "needs_background": "light"
     },
     "output_type": "display_data"
    }
   ],
   "source": [
    "plt.figure(figsize=(5,8))\n",
    "sns.barplot(multc.values[:50], multc.index[:50])\n",
    "plt.title('# of Claims By BeneID (Inpatient)')\n",
    "plt.xlabel('# of Claims')\n",
    "plt.ylabel('BeneID')"
   ]
  },
  {
   "cell_type": "code",
   "execution_count": null,
   "metadata": {},
   "outputs": [
    {
     "data": {
      "text/plain": [
       "<matplotlib.axes._subplots.AxesSubplot at 0x1a35fdce48>"
      ]
     },
     "execution_count": 68,
     "metadata": {},
     "output_type": "execute_result"
    }
   ],
   "source": [
    "sns.scatterplot(x=multc.index, y=multc.values)"
   ]
  },
  {
   "cell_type": "code",
   "execution_count": 132,
   "metadata": {},
   "outputs": [
    {
     "data": {
      "text/plain": [
       "BeneID                      0.000000\n",
       "ClaimID                     0.000000\n",
       "ClaimStartDt                0.000000\n",
       "ClaimEndDt                  0.000000\n",
       "Provider                    0.000000\n",
       "InscClaimAmtReimbursed      0.000000\n",
       "AttendingPhysician          0.276721\n",
       "OperatingPhysician         41.122696\n",
       "OtherPhysician             88.412314\n",
       "AdmissionDt                 0.000000\n",
       "ClmAdmitDiagnosisCode       0.000000\n",
       "DeductibleAmtPaid           2.221179\n",
       "DischargeDt                 0.000000\n",
       "DiagnosisGroupCode          0.000000\n",
       "ClmDiagnosisCode_1          0.000000\n",
       "ClmDiagnosisCode_2          0.558383\n",
       "ClmDiagnosisCode_3          1.670208\n",
       "ClmDiagnosisCode_4          3.790087\n",
       "ClmDiagnosisCode_5          7.150269\n",
       "ClmDiagnosisCode_6         11.953353\n",
       "ClmDiagnosisCode_7         17.932500\n",
       "ClmDiagnosisCode_8         24.563918\n",
       "ClmDiagnosisCode_9         33.347334\n",
       "ClmDiagnosisCode_10        90.297475\n",
       "ClmProcedureCode_1         42.807728\n",
       "ClmProcedureCode_2         86.524683\n",
       "ClmProcedureCode_3         97.615753\n",
       "ClmProcedureCode_4         99.713396\n",
       "ClmProcedureCode_5         99.977764\n",
       "ClmProcedureCode_6        100.000000\n",
       "Inpatient                   0.000000\n",
       "Outpatient                  0.000000\n",
       "Claim_Days_Elapsed          0.000000\n",
       "Admitted_Days               0.000000\n",
       "dtype: float64"
      ]
     },
     "execution_count": 132,
     "metadata": {},
     "output_type": "execute_result"
    }
   ],
   "source": [
    "#percentage of null values\n",
    "tr_in.isna().sum()*100/len(tr_in)"
   ]
  },
  {
   "cell_type": "code",
   "execution_count": null,
   "metadata": {},
   "outputs": [],
   "source": []
  },
  {
   "cell_type": "code",
   "execution_count": null,
   "metadata": {},
   "outputs": [],
   "source": []
  },
  {
   "cell_type": "markdown",
   "metadata": {},
   "source": [
    "## Outpatient"
   ]
  },
  {
   "cell_type": "code",
   "execution_count": 118,
   "metadata": {
    "scrolled": true
   },
   "outputs": [
    {
     "name": "stdout",
     "output_type": "stream",
     "text": [
      "(517737, 27)\n"
     ]
    },
    {
     "data": {
      "text/html": [
       "<div>\n",
       "<style scoped>\n",
       "    .dataframe tbody tr th:only-of-type {\n",
       "        vertical-align: middle;\n",
       "    }\n",
       "\n",
       "    .dataframe tbody tr th {\n",
       "        vertical-align: top;\n",
       "    }\n",
       "\n",
       "    .dataframe thead th {\n",
       "        text-align: right;\n",
       "    }\n",
       "</style>\n",
       "<table border=\"1\" class=\"dataframe\">\n",
       "  <thead>\n",
       "    <tr style=\"text-align: right;\">\n",
       "      <th></th>\n",
       "      <th>BeneID</th>\n",
       "      <th>ClaimID</th>\n",
       "      <th>ClaimStartDt</th>\n",
       "      <th>ClaimEndDt</th>\n",
       "      <th>Provider</th>\n",
       "      <th>InscClaimAmtReimbursed</th>\n",
       "      <th>AttendingPhysician</th>\n",
       "      <th>OperatingPhysician</th>\n",
       "      <th>OtherPhysician</th>\n",
       "      <th>ClmDiagnosisCode_1</th>\n",
       "      <th>...</th>\n",
       "      <th>ClmDiagnosisCode_9</th>\n",
       "      <th>ClmDiagnosisCode_10</th>\n",
       "      <th>ClmProcedureCode_1</th>\n",
       "      <th>ClmProcedureCode_2</th>\n",
       "      <th>ClmProcedureCode_3</th>\n",
       "      <th>ClmProcedureCode_4</th>\n",
       "      <th>ClmProcedureCode_5</th>\n",
       "      <th>ClmProcedureCode_6</th>\n",
       "      <th>DeductibleAmtPaid</th>\n",
       "      <th>ClmAdmitDiagnosisCode</th>\n",
       "    </tr>\n",
       "  </thead>\n",
       "  <tbody>\n",
       "    <tr>\n",
       "      <th>0</th>\n",
       "      <td>BENE11002</td>\n",
       "      <td>CLM624349</td>\n",
       "      <td>2009-10-11</td>\n",
       "      <td>2009-10-11</td>\n",
       "      <td>PRV56011</td>\n",
       "      <td>30</td>\n",
       "      <td>PHY326117</td>\n",
       "      <td>NaN</td>\n",
       "      <td>NaN</td>\n",
       "      <td>78943</td>\n",
       "      <td>...</td>\n",
       "      <td>NaN</td>\n",
       "      <td>NaN</td>\n",
       "      <td>NaN</td>\n",
       "      <td>NaN</td>\n",
       "      <td>NaN</td>\n",
       "      <td>NaN</td>\n",
       "      <td>NaN</td>\n",
       "      <td>NaN</td>\n",
       "      <td>0</td>\n",
       "      <td>56409</td>\n",
       "    </tr>\n",
       "    <tr>\n",
       "      <th>1</th>\n",
       "      <td>BENE11003</td>\n",
       "      <td>CLM189947</td>\n",
       "      <td>2009-02-12</td>\n",
       "      <td>2009-02-12</td>\n",
       "      <td>PRV57610</td>\n",
       "      <td>80</td>\n",
       "      <td>PHY362868</td>\n",
       "      <td>NaN</td>\n",
       "      <td>NaN</td>\n",
       "      <td>6115</td>\n",
       "      <td>...</td>\n",
       "      <td>NaN</td>\n",
       "      <td>NaN</td>\n",
       "      <td>NaN</td>\n",
       "      <td>NaN</td>\n",
       "      <td>NaN</td>\n",
       "      <td>NaN</td>\n",
       "      <td>NaN</td>\n",
       "      <td>NaN</td>\n",
       "      <td>0</td>\n",
       "      <td>79380</td>\n",
       "    </tr>\n",
       "    <tr>\n",
       "      <th>2</th>\n",
       "      <td>BENE11003</td>\n",
       "      <td>CLM438021</td>\n",
       "      <td>2009-06-27</td>\n",
       "      <td>2009-06-27</td>\n",
       "      <td>PRV57595</td>\n",
       "      <td>10</td>\n",
       "      <td>PHY328821</td>\n",
       "      <td>NaN</td>\n",
       "      <td>NaN</td>\n",
       "      <td>2723</td>\n",
       "      <td>...</td>\n",
       "      <td>NaN</td>\n",
       "      <td>NaN</td>\n",
       "      <td>NaN</td>\n",
       "      <td>NaN</td>\n",
       "      <td>NaN</td>\n",
       "      <td>NaN</td>\n",
       "      <td>NaN</td>\n",
       "      <td>NaN</td>\n",
       "      <td>0</td>\n",
       "      <td>NaN</td>\n",
       "    </tr>\n",
       "    <tr>\n",
       "      <th>3</th>\n",
       "      <td>BENE11004</td>\n",
       "      <td>CLM121801</td>\n",
       "      <td>2009-01-06</td>\n",
       "      <td>2009-01-06</td>\n",
       "      <td>PRV56011</td>\n",
       "      <td>40</td>\n",
       "      <td>PHY334319</td>\n",
       "      <td>NaN</td>\n",
       "      <td>NaN</td>\n",
       "      <td>71988</td>\n",
       "      <td>...</td>\n",
       "      <td>NaN</td>\n",
       "      <td>NaN</td>\n",
       "      <td>NaN</td>\n",
       "      <td>NaN</td>\n",
       "      <td>NaN</td>\n",
       "      <td>NaN</td>\n",
       "      <td>NaN</td>\n",
       "      <td>NaN</td>\n",
       "      <td>0</td>\n",
       "      <td>NaN</td>\n",
       "    </tr>\n",
       "    <tr>\n",
       "      <th>4</th>\n",
       "      <td>BENE11004</td>\n",
       "      <td>CLM150998</td>\n",
       "      <td>2009-01-22</td>\n",
       "      <td>2009-01-22</td>\n",
       "      <td>PRV56011</td>\n",
       "      <td>200</td>\n",
       "      <td>PHY403831</td>\n",
       "      <td>NaN</td>\n",
       "      <td>NaN</td>\n",
       "      <td>82382</td>\n",
       "      <td>...</td>\n",
       "      <td>NaN</td>\n",
       "      <td>NaN</td>\n",
       "      <td>NaN</td>\n",
       "      <td>NaN</td>\n",
       "      <td>NaN</td>\n",
       "      <td>NaN</td>\n",
       "      <td>NaN</td>\n",
       "      <td>NaN</td>\n",
       "      <td>0</td>\n",
       "      <td>71947</td>\n",
       "    </tr>\n",
       "  </tbody>\n",
       "</table>\n",
       "<p>5 rows × 27 columns</p>\n",
       "</div>"
      ],
      "text/plain": [
       "      BeneID    ClaimID ClaimStartDt  ClaimEndDt  Provider  \\\n",
       "0  BENE11002  CLM624349   2009-10-11  2009-10-11  PRV56011   \n",
       "1  BENE11003  CLM189947   2009-02-12  2009-02-12  PRV57610   \n",
       "2  BENE11003  CLM438021   2009-06-27  2009-06-27  PRV57595   \n",
       "3  BENE11004  CLM121801   2009-01-06  2009-01-06  PRV56011   \n",
       "4  BENE11004  CLM150998   2009-01-22  2009-01-22  PRV56011   \n",
       "\n",
       "   InscClaimAmtReimbursed AttendingPhysician OperatingPhysician  \\\n",
       "0                      30          PHY326117                NaN   \n",
       "1                      80          PHY362868                NaN   \n",
       "2                      10          PHY328821                NaN   \n",
       "3                      40          PHY334319                NaN   \n",
       "4                     200          PHY403831                NaN   \n",
       "\n",
       "  OtherPhysician ClmDiagnosisCode_1          ...           ClmDiagnosisCode_9  \\\n",
       "0            NaN              78943          ...                          NaN   \n",
       "1            NaN               6115          ...                          NaN   \n",
       "2            NaN               2723          ...                          NaN   \n",
       "3            NaN              71988          ...                          NaN   \n",
       "4            NaN              82382          ...                          NaN   \n",
       "\n",
       "  ClmDiagnosisCode_10 ClmProcedureCode_1 ClmProcedureCode_2  \\\n",
       "0                 NaN                NaN                NaN   \n",
       "1                 NaN                NaN                NaN   \n",
       "2                 NaN                NaN                NaN   \n",
       "3                 NaN                NaN                NaN   \n",
       "4                 NaN                NaN                NaN   \n",
       "\n",
       "  ClmProcedureCode_3 ClmProcedureCode_4 ClmProcedureCode_5 ClmProcedureCode_6  \\\n",
       "0                NaN                NaN                NaN                NaN   \n",
       "1                NaN                NaN                NaN                NaN   \n",
       "2                NaN                NaN                NaN                NaN   \n",
       "3                NaN                NaN                NaN                NaN   \n",
       "4                NaN                NaN                NaN                NaN   \n",
       "\n",
       "  DeductibleAmtPaid  ClmAdmitDiagnosisCode  \n",
       "0                 0                  56409  \n",
       "1                 0                  79380  \n",
       "2                 0                    NaN  \n",
       "3                 0                    NaN  \n",
       "4                 0                  71947  \n",
       "\n",
       "[5 rows x 27 columns]"
      ]
     },
     "execution_count": 118,
     "metadata": {},
     "output_type": "execute_result"
    }
   ],
   "source": [
    "tr_out = pd.read_csv('Train_Outpatientdata-1542865627584.csv')\n",
    "print(tr_out.shape)\n",
    "tr_out.head()"
   ]
  },
  {
   "cell_type": "code",
   "execution_count": 119,
   "metadata": {},
   "outputs": [
    {
     "data": {
      "text/plain": [
       "Index(['BeneID', 'ClaimID', 'ClaimStartDt', 'ClaimEndDt', 'Provider',\n",
       "       'InscClaimAmtReimbursed', 'AttendingPhysician', 'OperatingPhysician',\n",
       "       'OtherPhysician', 'ClmDiagnosisCode_1', 'ClmDiagnosisCode_2',\n",
       "       'ClmDiagnosisCode_3', 'ClmDiagnosisCode_4', 'ClmDiagnosisCode_5',\n",
       "       'ClmDiagnosisCode_6', 'ClmDiagnosisCode_7', 'ClmDiagnosisCode_8',\n",
       "       'ClmDiagnosisCode_9', 'ClmDiagnosisCode_10', 'ClmProcedureCode_1',\n",
       "       'ClmProcedureCode_2', 'ClmProcedureCode_3', 'ClmProcedureCode_4',\n",
       "       'ClmProcedureCode_5', 'ClmProcedureCode_6', 'DeductibleAmtPaid',\n",
       "       'ClmAdmitDiagnosisCode'],\n",
       "      dtype='object')"
      ]
     },
     "execution_count": 119,
     "metadata": {},
     "output_type": "execute_result"
    }
   ],
   "source": [
    "tr_out.columns"
   ]
  },
  {
   "cell_type": "code",
   "execution_count": 120,
   "metadata": {},
   "outputs": [],
   "source": [
    "tr_out['Inpatient'] = 0\n",
    "tr_out['Outpatient'] = 1\n",
    "tr_out['ClaimStartDt'] = pd.to_datetime(tr_out['ClaimStartDt'])\n",
    "tr_out['ClaimEndDt'] = pd.to_datetime(tr_out['ClaimEndDt'])\n",
    "tr_out['Claim_Days_Elapsed'] = (tr_out['ClaimEndDt'] - tr_out['ClaimStartDt']).dt.days"
   ]
  },
  {
   "cell_type": "code",
   "execution_count": 121,
   "metadata": {},
   "outputs": [
    {
     "name": "stdout",
     "output_type": "stream",
     "text": [
      "30\n"
     ]
    },
    {
     "data": {
      "text/plain": [
       "Index(['BeneID', 'ClaimID', 'ClaimStartDt', 'ClaimEndDt', 'Provider',\n",
       "       'InscClaimAmtReimbursed', 'AttendingPhysician', 'OperatingPhysician',\n",
       "       'OtherPhysician', 'ClmDiagnosisCode_1', 'ClmDiagnosisCode_2',\n",
       "       'ClmDiagnosisCode_3', 'ClmDiagnosisCode_4', 'ClmDiagnosisCode_5',\n",
       "       'ClmDiagnosisCode_6', 'ClmDiagnosisCode_7', 'ClmDiagnosisCode_8',\n",
       "       'ClmDiagnosisCode_9', 'ClmDiagnosisCode_10', 'ClmProcedureCode_1',\n",
       "       'ClmProcedureCode_2', 'ClmProcedureCode_3', 'ClmProcedureCode_4',\n",
       "       'ClmProcedureCode_5', 'ClmProcedureCode_6', 'DeductibleAmtPaid',\n",
       "       'ClmAdmitDiagnosisCode', 'Inpatient', 'Outpatient',\n",
       "       'Claim_Days_Elapsed'],\n",
       "      dtype='object')"
      ]
     },
     "execution_count": 121,
     "metadata": {},
     "output_type": "execute_result"
    }
   ],
   "source": [
    "print(len(tr_out.columns))\n",
    "tr_out.columns"
   ]
  },
  {
   "cell_type": "code",
   "execution_count": 165,
   "metadata": {},
   "outputs": [
    {
     "data": {
      "text/plain": [
       "5012"
      ]
     },
     "execution_count": 165,
     "metadata": {},
     "output_type": "execute_result"
    }
   ],
   "source": [
    "len(tr_out.Provider.unique())"
   ]
  },
  {
   "cell_type": "code",
   "execution_count": 122,
   "metadata": {},
   "outputs": [
    {
     "name": "stdout",
     "output_type": "stream",
     "text": [
      "(517737, 3)\n"
     ]
    },
    {
     "data": {
      "text/plain": [
       "AttendingPhysician      1396\n",
       "OperatingPhysician    427120\n",
       "OtherPhysician        322691\n",
       "dtype: int64"
      ]
     },
     "execution_count": 122,
     "metadata": {},
     "output_type": "execute_result"
    }
   ],
   "source": [
    "phys_o = tr_out[['AttendingPhysician', 'OperatingPhysician',\n",
    "       'OtherPhysician']]\n",
    "print(phys_o.shape)\n",
    "phys_o.isna().sum()"
   ]
  },
  {
   "cell_type": "code",
   "execution_count": 123,
   "metadata": {},
   "outputs": [
    {
     "data": {
      "text/html": [
       "<div>\n",
       "<style scoped>\n",
       "    .dataframe tbody tr th:only-of-type {\n",
       "        vertical-align: middle;\n",
       "    }\n",
       "\n",
       "    .dataframe tbody tr th {\n",
       "        vertical-align: top;\n",
       "    }\n",
       "\n",
       "    .dataframe thead th {\n",
       "        text-align: right;\n",
       "    }\n",
       "</style>\n",
       "<table border=\"1\" class=\"dataframe\">\n",
       "  <thead>\n",
       "    <tr style=\"text-align: right;\">\n",
       "      <th></th>\n",
       "      <th>AttendingPhysician</th>\n",
       "      <th>OperatingPhysician</th>\n",
       "      <th>OtherPhysician</th>\n",
       "    </tr>\n",
       "  </thead>\n",
       "  <tbody>\n",
       "    <tr>\n",
       "      <th>0</th>\n",
       "      <td>PHY326117</td>\n",
       "      <td>NaN</td>\n",
       "      <td>NaN</td>\n",
       "    </tr>\n",
       "    <tr>\n",
       "      <th>1</th>\n",
       "      <td>PHY362868</td>\n",
       "      <td>NaN</td>\n",
       "      <td>NaN</td>\n",
       "    </tr>\n",
       "    <tr>\n",
       "      <th>2</th>\n",
       "      <td>PHY328821</td>\n",
       "      <td>NaN</td>\n",
       "      <td>NaN</td>\n",
       "    </tr>\n",
       "    <tr>\n",
       "      <th>3</th>\n",
       "      <td>PHY334319</td>\n",
       "      <td>NaN</td>\n",
       "      <td>NaN</td>\n",
       "    </tr>\n",
       "    <tr>\n",
       "      <th>4</th>\n",
       "      <td>PHY403831</td>\n",
       "      <td>NaN</td>\n",
       "      <td>NaN</td>\n",
       "    </tr>\n",
       "  </tbody>\n",
       "</table>\n",
       "</div>"
      ],
      "text/plain": [
       "  AttendingPhysician OperatingPhysician OtherPhysician\n",
       "0          PHY326117                NaN            NaN\n",
       "1          PHY362868                NaN            NaN\n",
       "2          PHY328821                NaN            NaN\n",
       "3          PHY334319                NaN            NaN\n",
       "4          PHY403831                NaN            NaN"
      ]
     },
     "execution_count": 123,
     "metadata": {},
     "output_type": "execute_result"
    }
   ],
   "source": [
    "phys_o.head()"
   ]
  },
  {
   "cell_type": "code",
   "execution_count": 131,
   "metadata": {
    "scrolled": false
   },
   "outputs": [
    {
     "data": {
      "text/plain": [
       "BeneID                      0.000000\n",
       "ClaimID                     0.000000\n",
       "ClaimStartDt                0.000000\n",
       "ClaimEndDt                  0.000000\n",
       "Provider                    0.000000\n",
       "InscClaimAmtReimbursed      0.000000\n",
       "AttendingPhysician          0.269635\n",
       "OperatingPhysician         82.497484\n",
       "OtherPhysician             62.327205\n",
       "ClmDiagnosisCode_1          2.018979\n",
       "ClmDiagnosisCode_2         37.737307\n",
       "ClmDiagnosisCode_3         60.741264\n",
       "ClmDiagnosisCode_4         75.741351\n",
       "ClmDiagnosisCode_5         85.640586\n",
       "ClmDiagnosisCode_6         90.582864\n",
       "ClmDiagnosisCode_7         93.633640\n",
       "ClmDiagnosisCode_8         95.574587\n",
       "ClmDiagnosisCode_9         97.134066\n",
       "ClmDiagnosisCode_10        99.790820\n",
       "ClmProcedureCode_1         99.968710\n",
       "ClmProcedureCode_2         99.993047\n",
       "ClmProcedureCode_3         99.999227\n",
       "ClmProcedureCode_4         99.999614\n",
       "ClmProcedureCode_5        100.000000\n",
       "ClmProcedureCode_6        100.000000\n",
       "DeductibleAmtPaid           0.000000\n",
       "ClmAdmitDiagnosisCode      79.637345\n",
       "Inpatient                   0.000000\n",
       "Outpatient                  0.000000\n",
       "Claim_Days_Elapsed          0.000000\n",
       "dtype: float64"
      ]
     },
     "execution_count": 131,
     "metadata": {},
     "output_type": "execute_result"
    }
   ],
   "source": [
    "#percentage of null values\n",
    "tr_out.isna().sum()*100/len(tr_out)"
   ]
  },
  {
   "cell_type": "code",
   "execution_count": 135,
   "metadata": {},
   "outputs": [
    {
     "data": {
      "text/plain": [
       "Text(0, 0.5, 'Provider')"
      ]
     },
     "execution_count": 135,
     "metadata": {},
     "output_type": "execute_result"
    },
    {
     "data": {
      "image/png": "[encoded data removed]",
      "text/plain": [
       "<Figure size 720x360 with 1 Axes>"
      ]
     },
     "metadata": {
      "needs_background": "light"
     },
     "output_type": "display_data"
    }
   ],
   "source": [
    "plt.figure(figsize=(10,5))\n",
    "sns.barplot(tr_out.Provider.value_counts().values[:10],tr_out.Provider.value_counts().index[:10] )\n",
    "plt.title('# of Claims by Provider (Outpatient)')\n",
    "plt.xlabel('# of Claims')\n",
    "plt.ylabel('Provider')"
   ]
  },
  {
   "cell_type": "code",
   "execution_count": 149,
   "metadata": {},
   "outputs": [
    {
     "data": {
      "text/plain": [
       "3804.4"
      ]
     },
     "execution_count": 149,
     "metadata": {},
     "output_type": "execute_result"
    }
   ],
   "source": [
    "tr_out.Provider.value_counts()[:10].mean()"
   ]
  },
  {
   "cell_type": "code",
   "execution_count": 139,
   "metadata": {},
   "outputs": [
    {
     "data": {
      "text/plain": [
       "Text(0, 0.5, '# of Claims')"
      ]
     },
     "execution_count": 139,
     "metadata": {},
     "output_type": "execute_result"
    },
    {
     "data": {
      "image/png": "[encoded data removed]",
      "text/plain": [
       "<Figure size 720x360 with 1 Axes>"
      ]
     },
     "metadata": {
      "needs_background": "light"
     },
     "output_type": "display_data"
    }
   ],
   "source": [
    "plt.figure(figsize=(10,5))\n",
    "sns.barplot(tr_in.Provider.value_counts().index[:100],tr_in.Provider.value_counts().values[:100] )\n",
    "plt.title('# of Claims by Provider (Outpatient)')\n",
    "plt.xlabel('Provider')\n",
    "plt.xticks(rotation=90)\n",
    "plt.ylabel('# of Claims')\n"
   ]
  },
  {
   "cell_type": "code",
   "execution_count": 150,
   "metadata": {},
   "outputs": [
    {
     "data": {
      "text/plain": [
       "1556.26"
      ]
     },
     "execution_count": 150,
     "metadata": {},
     "output_type": "execute_result"
    }
   ],
   "source": [
    "tr_out.Provider.value_counts()[:100].mean()"
   ]
  },
  {
   "cell_type": "code",
   "execution_count": 140,
   "metadata": {},
   "outputs": [
    {
     "data": {
      "text/plain": [
       "BeneID\n",
       "BENE42721     29\n",
       "BENE118316    29\n",
       "BENE59303     27\n",
       "BENE63544     27\n",
       "BENE143400    27\n",
       "BENE63504     27\n",
       "BENE44241     26\n",
       "BENE36330     26\n",
       "BENE40202     25\n",
       "BENE111593    25\n",
       "BENE87248     25\n",
       "BENE158374    25\n",
       "BENE28733     24\n",
       "BENE81944     24\n",
       "BENE17000     24\n",
       "Name: ClaimID, dtype: int64"
      ]
     },
     "execution_count": 140,
     "metadata": {},
     "output_type": "execute_result"
    }
   ],
   "source": [
    "mult_cl_out = tr_out.groupby('BeneID')['ClaimID'].nunique().sort_values(ascending=False)\n",
    "mult_cl_out.head(15)"
   ]
  },
  {
   "cell_type": "code",
   "execution_count": 145,
   "metadata": {},
   "outputs": [
    {
     "data": {
      "text/plain": [
       "Text(0, 0.5, 'BeneID')"
      ]
     },
     "execution_count": 145,
     "metadata": {},
     "output_type": "execute_result"
    },
    {
     "data": {
      "image/png": "[encoded data removed]",
      "text/plain": [
       "<Figure size 360x576 with 1 Axes>"
      ]
     },
     "metadata": {
      "needs_background": "light"
     },
     "output_type": "display_data"
    }
   ],
   "source": [
    "plt.figure(figsize=(5,8))\n",
    "sns.barplot(mult_cl_out.values[:50], mult_cl_out.index[:50])\n",
    "plt.title('# of Claims By BeneID (Outpatient)')\n",
    "plt.xlabel('# of Claims')\n",
    "plt.ylabel('BeneID')"
   ]
  },
  {
   "cell_type": "code",
   "execution_count": null,
   "metadata": {},
   "outputs": [],
   "source": []
  },
  {
   "cell_type": "code",
   "execution_count": 8,
   "metadata": {},
   "outputs": [],
   "source": [
    "tr_ben = pd.read_csv('tr_ben.csv')"
   ]
  },
  {
   "cell_type": "code",
   "execution_count": null,
   "metadata": {},
   "outputs": [],
   "source": []
  },
  {
   "cell_type": "code",
   "execution_count": 52,
   "metadata": {},
   "outputs": [
    {
     "data": {
      "text/plain": [
       "{'AttendingPhysician',\n",
       " 'BeneID',\n",
       " 'ClaimEndDt',\n",
       " 'ClaimID',\n",
       " 'ClaimStartDt',\n",
       " 'Claim_Days_Elapsed',\n",
       " 'ClmAdmitDiagnosisCode',\n",
       " 'ClmDiagnosisCode_1',\n",
       " 'ClmDiagnosisCode_10',\n",
       " 'ClmDiagnosisCode_2',\n",
       " 'ClmDiagnosisCode_3',\n",
       " 'ClmDiagnosisCode_4',\n",
       " 'ClmDiagnosisCode_5',\n",
       " 'ClmDiagnosisCode_6',\n",
       " 'ClmDiagnosisCode_7',\n",
       " 'ClmDiagnosisCode_8',\n",
       " 'ClmDiagnosisCode_9',\n",
       " 'ClmProcedureCode_1',\n",
       " 'ClmProcedureCode_2',\n",
       " 'ClmProcedureCode_3',\n",
       " 'ClmProcedureCode_4',\n",
       " 'ClmProcedureCode_5',\n",
       " 'ClmProcedureCode_6',\n",
       " 'DeductibleAmtPaid',\n",
       " 'Inpatient',\n",
       " 'InscClaimAmtReimbursed',\n",
       " 'OperatingPhysician',\n",
       " 'OtherPhysician',\n",
       " 'Outpatient',\n",
       " 'Provider'}"
      ]
     },
     "execution_count": 52,
     "metadata": {},
     "output_type": "execute_result"
    }
   ],
   "source": [
    "#see which features these DFs have in common\n",
    "set(tr_in.columns).intersection(set(tr_out.columns))"
   ]
  },
  {
   "cell_type": "code",
   "execution_count": 124,
   "metadata": {
    "scrolled": true
   },
   "outputs": [
    {
     "name": "stdout",
     "output_type": "stream",
     "text": [
      "34\n"
     ]
    },
    {
     "data": {
      "text/plain": [
       "Index(['BeneID', 'ClaimID', 'ClaimStartDt', 'ClaimEndDt', 'Provider',\n",
       "       'InscClaimAmtReimbursed', 'AttendingPhysician', 'OperatingPhysician',\n",
       "       'OtherPhysician', 'AdmissionDt', 'ClmAdmitDiagnosisCode',\n",
       "       'DeductibleAmtPaid', 'DischargeDt', 'DiagnosisGroupCode',\n",
       "       'ClmDiagnosisCode_1', 'ClmDiagnosisCode_2', 'ClmDiagnosisCode_3',\n",
       "       'ClmDiagnosisCode_4', 'ClmDiagnosisCode_5', 'ClmDiagnosisCode_6',\n",
       "       'ClmDiagnosisCode_7', 'ClmDiagnosisCode_8', 'ClmDiagnosisCode_9',\n",
       "       'ClmDiagnosisCode_10', 'ClmProcedureCode_1', 'ClmProcedureCode_2',\n",
       "       'ClmProcedureCode_3', 'ClmProcedureCode_4', 'ClmProcedureCode_5',\n",
       "       'ClmProcedureCode_6', 'Inpatient', 'Outpatient', 'Claim_Days_Elapsed',\n",
       "       'Admitted_Days'],\n",
       "      dtype='object')"
      ]
     },
     "execution_count": 124,
     "metadata": {},
     "output_type": "execute_result"
    }
   ],
   "source": [
    "print(len(tr_in.columns))\n",
    "tr_in.columns"
   ]
  },
  {
   "cell_type": "code",
   "execution_count": 147,
   "metadata": {},
   "outputs": [
    {
     "name": "stdout",
     "output_type": "stream",
     "text": [
      "30\n"
     ]
    },
    {
     "data": {
      "text/plain": [
       "Index(['BeneID', 'ClaimID', 'ClaimStartDt', 'ClaimEndDt', 'Provider',\n",
       "       'InscClaimAmtReimbursed', 'AttendingPhysician', 'OperatingPhysician',\n",
       "       'OtherPhysician', 'ClmDiagnosisCode_1', 'ClmDiagnosisCode_2',\n",
       "       'ClmDiagnosisCode_3', 'ClmDiagnosisCode_4', 'ClmDiagnosisCode_5',\n",
       "       'ClmDiagnosisCode_6', 'ClmDiagnosisCode_7', 'ClmDiagnosisCode_8',\n",
       "       'ClmDiagnosisCode_9', 'ClmDiagnosisCode_10', 'ClmProcedureCode_1',\n",
       "       'ClmProcedureCode_2', 'ClmProcedureCode_3', 'ClmProcedureCode_4',\n",
       "       'ClmProcedureCode_5', 'ClmProcedureCode_6', 'DeductibleAmtPaid',\n",
       "       'ClmAdmitDiagnosisCode', 'Inpatient', 'Outpatient',\n",
       "       'Claim_Days_Elapsed'],\n",
       "      dtype='object')"
      ]
     },
     "execution_count": 147,
     "metadata": {},
     "output_type": "execute_result"
    }
   ],
   "source": [
    "print(len(tr_out.columns))\n",
    "tr_out.columns"
   ]
  },
  {
   "cell_type": "code",
   "execution_count": 146,
   "metadata": {},
   "outputs": [
    {
     "name": "stdout",
     "output_type": "stream",
     "text": [
      "Inpatient Shape: (40474, 34)\n",
      "Outpatient Shape: (517737, 30)\n"
     ]
    }
   ],
   "source": [
    "print(\"Inpatient Shape:\", tr_in.shape)\n",
    "print(\"Outpatient Shape:\", tr_out.shape)"
   ]
  },
  {
   "cell_type": "code",
   "execution_count": null,
   "metadata": {},
   "outputs": [],
   "source": [
    "# not found in outpatient: 'AdmissionDt', 'DischargeDt', 'Admitted_Days', 'DiagnosisGroupCode'"
   ]
  },
  {
   "cell_type": "code",
   "execution_count": null,
   "metadata": {},
   "outputs": [],
   "source": []
  },
  {
   "cell_type": "markdown",
   "metadata": {},
   "source": [
    "# Merge or Concat"
   ]
  },
  {
   "cell_type": "code",
   "execution_count": 152,
   "metadata": {
    "scrolled": true
   },
   "outputs": [
    {
     "name": "stderr",
     "output_type": "stream",
     "text": [
      "/Users/fhel/anaconda3/lib/python3.7/site-packages/ipykernel_launcher.py:1: FutureWarning: Sorting because non-concatenation axis is not aligned. A future version\n",
      "of pandas will change to not sort by default.\n",
      "\n",
      "To accept the future behavior, pass 'sort=False'.\n",
      "\n",
      "To retain the current behavior and silence the warning, pass 'sort=True'.\n",
      "\n",
      "  \"\"\"Entry point for launching an IPython kernel.\n"
     ]
    },
    {
     "name": "stdout",
     "output_type": "stream",
     "text": [
      "(558211, 34)\n"
     ]
    },
    {
     "data": {
      "text/plain": [
       "Index(['AdmissionDt', 'Admitted_Days', 'AttendingPhysician', 'BeneID',\n",
       "       'ClaimEndDt', 'ClaimID', 'ClaimStartDt', 'Claim_Days_Elapsed',\n",
       "       'ClmAdmitDiagnosisCode', 'ClmDiagnosisCode_1', 'ClmDiagnosisCode_10',\n",
       "       'ClmDiagnosisCode_2', 'ClmDiagnosisCode_3', 'ClmDiagnosisCode_4',\n",
       "       'ClmDiagnosisCode_5', 'ClmDiagnosisCode_6', 'ClmDiagnosisCode_7',\n",
       "       'ClmDiagnosisCode_8', 'ClmDiagnosisCode_9', 'ClmProcedureCode_1',\n",
       "       'ClmProcedureCode_2', 'ClmProcedureCode_3', 'ClmProcedureCode_4',\n",
       "       'ClmProcedureCode_5', 'ClmProcedureCode_6', 'DeductibleAmtPaid',\n",
       "       'DiagnosisGroupCode', 'DischargeDt', 'Inpatient',\n",
       "       'InscClaimAmtReimbursed', 'OperatingPhysician', 'OtherPhysician',\n",
       "       'Outpatient', 'Provider'],\n",
       "      dtype='object')"
      ]
     },
     "execution_count": 152,
     "metadata": {},
     "output_type": "execute_result"
    }
   ],
   "source": [
    "tr_inout = pd.concat([tr_in, tr_out], join=\"outer\", axis=0)\n",
    "print(tr_inout.shape)\n",
    "tr_inout.columns"
   ]
  },
  {
   "cell_type": "code",
   "execution_count": 156,
   "metadata": {},
   "outputs": [
    {
     "data": {
      "text/plain": [
       "0    517737\n",
       "1     40474\n",
       "Name: Inpatient, dtype: int64"
      ]
     },
     "execution_count": 156,
     "metadata": {},
     "output_type": "execute_result"
    }
   ],
   "source": [
    "tr_inout['Inpatient'].value_counts()"
   ]
  },
  {
   "cell_type": "code",
   "execution_count": 157,
   "metadata": {},
   "outputs": [
    {
     "data": {
      "text/plain": [
       "1    517737\n",
       "0     40474\n",
       "Name: Outpatient, dtype: int64"
      ]
     },
     "execution_count": 157,
     "metadata": {},
     "output_type": "execute_result"
    }
   ],
   "source": [
    "tr_inout['Outpatient'].value_counts()"
   ]
  },
  {
   "cell_type": "code",
   "execution_count": 162,
   "metadata": {},
   "outputs": [
    {
     "data": {
      "text/plain": [
       "Index(['AdmissionDt', 'Admitted_Days', 'AttendingPhysician', 'BeneID',\n",
       "       'ClaimEndDt', 'ClaimID', 'ClaimStartDt', 'Claim_Days_Elapsed',\n",
       "       'ClmAdmitDiagnosisCode', 'ClmDiagnosisCode_1', 'ClmDiagnosisCode_10',\n",
       "       'ClmDiagnosisCode_2', 'ClmDiagnosisCode_3', 'ClmDiagnosisCode_4',\n",
       "       'ClmDiagnosisCode_5', 'ClmDiagnosisCode_6', 'ClmDiagnosisCode_7',\n",
       "       'ClmDiagnosisCode_8', 'ClmDiagnosisCode_9', 'ClmProcedureCode_1',\n",
       "       'ClmProcedureCode_2', 'ClmProcedureCode_3', 'ClmProcedureCode_4',\n",
       "       'ClmProcedureCode_5', 'ClmProcedureCode_6', 'DeductibleAmtPaid',\n",
       "       'DiagnosisGroupCode', 'DischargeDt', 'Inpatient',\n",
       "       'InscClaimAmtReimbursed', 'OperatingPhysician', 'OtherPhysician',\n",
       "       'Outpatient', 'Provider'],\n",
       "      dtype='object')"
      ]
     },
     "execution_count": 162,
     "metadata": {},
     "output_type": "execute_result"
    }
   ],
   "source": [
    "tr_inout[:1].columns"
   ]
  },
  {
   "cell_type": "code",
   "execution_count": null,
   "metadata": {},
   "outputs": [],
   "source": []
  }
 ],
 "metadata": {
  "kernelspec": {
   "display_name": "Python 3",
   "language": "python",
   "name": "python3"
  },
  "language_info": {
   "codemirror_mode": {
    "name": "ipython",
    "version": 3
   },
   "file_extension": ".py",
   "mimetype": "text/x-python",
   "name": "python",
   "nbconvert_exporter": "python",
   "pygments_lexer": "ipython3",
   "version": "3.7.1"
  }
 },
 "nbformat": 4,
 "nbformat_minor": 2
}
